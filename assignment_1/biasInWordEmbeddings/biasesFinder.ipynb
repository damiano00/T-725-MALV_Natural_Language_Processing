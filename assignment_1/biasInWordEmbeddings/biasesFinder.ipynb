{
 "cells": [
  {
   "cell_type": "code",
   "execution_count": 2,
   "outputs": [],
   "source": [
    "import warnings\n",
    "import gensim.downloader as api"
   ],
   "metadata": {
    "collapsed": false,
    "ExecuteTime": {
     "end_time": "2023-09-20T00:50:49.573421500Z",
     "start_time": "2023-09-20T00:50:48.560758600Z"
    }
   },
   "id": "2749f99ea734f739"
  },
  {
   "cell_type": "code",
   "execution_count": 3,
   "outputs": [],
   "source": [
    "# Load GloVe embeddings\n",
    "warnings.simplefilter(action='ignore', category=FutureWarning)\n",
    "warnings.simplefilter(action='ignore', category=DeprecationWarning)\n",
    "wiki_corpus = api.load('glove-wiki-gigaword-100')\n",
    "twitter_corpus = api.load('glove-twitter-100')"
   ],
   "metadata": {
    "collapsed": false,
    "ExecuteTime": {
     "end_time": "2023-09-20T00:52:20.601336300Z",
     "start_time": "2023-09-20T00:50:49.575973400Z"
    }
   },
   "id": "d225bd79335c21c5"
  },
  {
   "cell_type": "code",
   "execution_count": 11,
   "outputs": [],
   "source": [
    "def find_word(corpus, a, b, x):\n",
    "  # a is to b as x is to ?\n",
    "  a = a.lower()\n",
    "  b = b.lower()\n",
    "  x = x.lower()\n",
    "  print(f\"> {a}:{b} as {x}:?\")\n",
    "  top_words = corpus.most_similar_cosmul(positive=[x, b], negative=[a])\n",
    "  for num, (word, score) in enumerate(top_words[:10]):\n",
    "    print(f\"{num + 1}: ({score:.3f}) {word}\")"
   ],
   "metadata": {
    "collapsed": false,
    "ExecuteTime": {
     "end_time": "2023-09-20T00:54:30.794936100Z",
     "start_time": "2023-09-20T00:54:30.794431400Z"
    }
   },
   "id": "91e34b7231288c3f"
  },
  {
   "cell_type": "code",
   "execution_count": 12,
   "outputs": [],
   "source": [
    "def find_words_general(a, b, x):\n",
    "  print(\"GloVe Twitter\\n\")\n",
    "  find_word(twitter_corpus, a ,b, x)\n",
    "  print(\"\\nGloVe Wikipedia\\n\")\n",
    "  find_word(wiki_corpus, a, b, x)"
   ],
   "metadata": {
    "collapsed": false,
    "ExecuteTime": {
     "end_time": "2023-09-20T00:54:32.354669800Z",
     "start_time": "2023-09-20T00:54:32.340690900Z"
    }
   },
   "id": "a9544cbaed5c6d57"
  },
  {
   "cell_type": "code",
   "execution_count": 17,
   "outputs": [
    {
     "name": "stdout",
     "output_type": "stream",
     "text": [
      "GloVe Twitter\n",
      "\n",
      "> straight:educated as gay:?\n",
      "1: (0.946) heterosexual\n",
      "2: (0.943) homosexual\n",
      "3: (0.918) anormal\n",
      "4: (0.906) analfabeto\n",
      "5: (0.904) afeminado\n",
      "6: (0.887) machista\n",
      "7: (0.881) inculto\n",
      "8: (0.878) pijo\n",
      "9: (0.874) ignorante\n",
      "10: (0.872) intelligent\n",
      "\n",
      "GloVe Wikipedia\n",
      "\n",
      "> straight:educated as gay:?\n",
      "1: (1.056) baptized\n",
      "2: (1.039) baptised\n",
      "3: (1.025) homeschoolers\n",
      "4: (1.009) noncitizen\n",
      "5: (1.006) unmarried\n",
      "6: (1.002) clergyman\n",
      "7: (0.998) schooled\n",
      "8: (0.994) lgbt\n",
      "9: (0.982) working-class\n",
      "10: (0.981) devout\n"
     ]
    }
   ],
   "source": [
    "find_words_general(\"straight\", \"educated\", \"gay\")"
   ],
   "metadata": {
    "collapsed": false,
    "ExecuteTime": {
     "end_time": "2023-09-20T00:57:30.373094900Z",
     "start_time": "2023-09-20T00:57:30.259208800Z"
    }
   },
   "id": "db57e305d5cfb2a4"
  }
 ],
 "metadata": {
  "kernelspec": {
   "display_name": "Python 3",
   "language": "python",
   "name": "python3"
  },
  "language_info": {
   "codemirror_mode": {
    "name": "ipython",
    "version": 2
   },
   "file_extension": ".py",
   "mimetype": "text/x-python",
   "name": "python",
   "nbconvert_exporter": "python",
   "pygments_lexer": "ipython2",
   "version": "2.7.6"
  }
 },
 "nbformat": 4,
 "nbformat_minor": 5
}

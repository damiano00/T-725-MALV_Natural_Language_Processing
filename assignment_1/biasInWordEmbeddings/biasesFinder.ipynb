{
 "cells": [
  {
   "cell_type": "code",
   "execution_count": null,
   "outputs": [],
   "source": [
    "import warnings\n",
    "import gensim.downloader as api"
   ],
   "metadata": {
    "collapsed": false
   },
   "id": "2749f99ea734f739"
  },
  {
   "cell_type": "code",
   "execution_count": null,
   "outputs": [],
   "source": [
    "# Load GloVe embeddings\n",
    "warnings.simplefilter(action='ignore', category=FutureWarning)\n",
    "warnings.simplefilter(action='ignore', category=DeprecationWarning)\n",
    "wiki_corpus = api.load('glove-wiki-gigaword-100')\n",
    "twitter_corpus = api.load('glove-twitter-100')"
   ],
   "metadata": {
    "collapsed": false
   },
   "id": "d225bd79335c21c5"
  },
  {
   "cell_type": "code",
   "execution_count": 22,
   "outputs": [],
   "source": [
    "def find_word(corpus, a, b, x, path=None):\n",
    "  # a is to b as x is to ?\n",
    "  a = a.lower()\n",
    "  b = b.lower()\n",
    "  x = x.lower()\n",
    "  print(f\"> {a}:{b} as {x}:?\")\n",
    "  top_words = corpus.most_similar_cosmul(positive=[x, b], negative=[a])\n",
    "  for num, (word, score) in enumerate(top_words[:5]):\n",
    "    print(f\"{num + 1}: ({score:.3f}) {word}\")"
   ],
   "metadata": {
    "collapsed": false,
    "ExecuteTime": {
     "end_time": "2023-09-19T19:02:11.173920400Z",
     "start_time": "2023-09-19T19:02:11.169380Z"
    }
   },
   "id": "91e34b7231288c3f"
  },
  {
   "cell_type": "code",
   "execution_count": 23,
   "outputs": [
    {
     "name": "stdout",
     "output_type": "stream",
     "text": [
      "> white:black as lawyer:?\n",
      "1: (0.933) attorney\n",
      "2: (0.882) lawyers\n",
      "3: (0.839) attorneys\n",
      "4: (0.835) arrest\n",
      "5: (0.830) trial\n"
     ]
    }
   ],
   "source": [
    "find_word(twitter_corpus, \"White\" ,\"Black\", \"Lawyer\")"
   ],
   "metadata": {
    "collapsed": false,
    "ExecuteTime": {
     "end_time": "2023-09-19T19:02:13.288190500Z",
     "start_time": "2023-09-19T19:02:13.202246Z"
    }
   },
   "id": "a9544cbaed5c6d57"
  }
 ],
 "metadata": {
  "kernelspec": {
   "display_name": "Python 3",
   "language": "python",
   "name": "python3"
  },
  "language_info": {
   "codemirror_mode": {
    "name": "ipython",
    "version": 2
   },
   "file_extension": ".py",
   "mimetype": "text/x-python",
   "name": "python",
   "nbconvert_exporter": "python",
   "pygments_lexer": "ipython2",
   "version": "2.7.6"
  }
 },
 "nbformat": 4,
 "nbformat_minor": 5
}

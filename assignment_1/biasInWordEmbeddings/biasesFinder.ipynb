{
 "cells": [
  {
   "cell_type": "code",
   "execution_count": null,
   "outputs": [],
   "source": [
    "import warnings\n",
    "import gensim.downloader as api"
   ],
   "metadata": {
    "collapsed": false
   },
   "id": "2749f99ea734f739"
  },
  {
   "cell_type": "code",
   "execution_count": null,
   "outputs": [],
   "source": [
    "# Load GloVe embeddings\n",
    "warnings.simplefilter(action='ignore', category=FutureWarning)\n",
    "warnings.simplefilter(action='ignore', category=DeprecationWarning)\n",
    "wiki_corpus = api.load('glove-wiki-gigaword-100')\n",
    "twitter_corpus = api.load('glove-twitter-100')"
   ],
   "metadata": {
    "collapsed": false
   },
   "id": "d225bd79335c21c5"
  },
  {
   "cell_type": "code",
   "execution_count": null,
   "outputs": [],
   "source": [
    "def find_word(corpus, a, b, x):\n",
    "  # a is to b as x is to ?\n",
    "  a = a.lower()\n",
    "  b = b.lower()\n",
    "  x = x.lower()\n",
    "  print(f\"> {a}:{b} as {x}:?\")\n",
    "  top_words = corpus.most_similar_cosmul(positive=[x, b], negative=[a])\n",
    "  for num, (word, score) in enumerate(top_words[:10]):\n",
    "    print(f\"{num + 1}: ({score:.3f}) {word}\")"
   ],
   "metadata": {
    "collapsed": false
   },
   "id": "91e34b7231288c3f"
  },
  {
   "cell_type": "code",
   "execution_count": null,
   "outputs": [],
   "source": [
    "def find_words_general(a, b, x):\n",
    "  print(\"GloVe Twitter\\n\")\n",
    "  find_word(twitter_corpus, a ,b, x)\n",
    "  print(\"\\nGloVe Wikipedia\\n\")\n",
    "  find_word(wiki_corpus, a, b, x)"
   ],
   "metadata": {
    "collapsed": false
   },
   "id": "a9544cbaed5c6d57"
  },
  {
   "cell_type": "code",
   "execution_count": 94,
   "outputs": [
    {
     "name": "stdout",
     "output_type": "stream",
     "text": [
      "GloVe Twitter\n",
      "\n",
      "> young:fun as elder:?\n",
      "1: (0.901) skyrim\n",
      "2: (0.883) crafting\n",
      "3: (0.883) modding\n",
      "4: (0.883) gnome\n",
      "5: (0.881) adventures\n",
      "6: (0.875) ecard\n",
      "7: (0.874) manor\n",
      "8: (0.873) ox_x\n",
      "9: (0.871) amusement\n",
      "10: (0.868) fable\n",
      "\n",
      "GloVe Wikipedia\n",
      "\n",
      "> young:fun as elder:?\n",
      "1: (0.786) dad\n",
      "2: (0.775) golfing\n",
      "3: (0.741) remembered\n",
      "4: (0.740) recollection\n",
      "5: (0.739) manners\n",
      "6: (0.739) mitri\n",
      "7: (0.739) remembering\n",
      "8: (0.734) uncle\n",
      "9: (0.733) my\n",
      "10: (0.733) paraphrasing\n"
     ]
    }
   ],
   "source": [
    "# Gender stereotypes\n",
    "\n",
    "find_words_general(\"young\", \"fun\", \"elder\")"
   ],
   "metadata": {
    "collapsed": false,
    "ExecuteTime": {
     "end_time": "2023-09-20T11:00:46.011591700Z",
     "start_time": "2023-09-20T11:00:45.897150600Z"
    }
   },
   "id": "927aef18253932dc"
  }
 ],
 "metadata": {
  "kernelspec": {
   "display_name": "Python 3",
   "language": "python",
   "name": "python3"
  },
  "language_info": {
   "codemirror_mode": {
    "name": "ipython",
    "version": 2
   },
   "file_extension": ".py",
   "mimetype": "text/x-python",
   "name": "python",
   "nbconvert_exporter": "python",
   "pygments_lexer": "ipython2",
   "version": "2.7.6"
  }
 },
 "nbformat": 4,
 "nbformat_minor": 5
}

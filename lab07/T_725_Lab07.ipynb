{
  "nbformat": 4,
  "nbformat_minor": 0,
  "metadata": {
    "colab": {
      "provenance": [],
      "gpuType": "T4"
    },
    "kernelspec": {
      "name": "python3",
      "display_name": "Python 3"
    },
    "language_info": {
      "name": "python"
    },
    "accelerator": "GPU"
  },
  "cells": [
    {
      "cell_type": "markdown",
      "source": [
        "# T-725 Natural Language Processing: Lab 7\n",
        "In today's lab, we will be working with spaCy and Huggingface for a variety of tasks. We'll also learn how to use Gradio to quickly create convenient user interfaces.\n",
        "\n",
        "To begin with, do the following:\n",
        "* Select `\"File\" > \"Save a copy in Drive\"` to create a local copy of this notebook that you can edit.\n",
        "* **Select `\"Runtime\" > \"Change runtime type\"`, and make sure that you have \"Hardware accelerator\" set to \"GPU\"**\n",
        "* Select `\"Runtime\" > \"Run all\"` to run the code in this notebook."
      ],
      "metadata": {
        "id": "GVUWLZAzmLvK"
      }
    },
    {
      "cell_type": "markdown",
      "source": [
        "## spaCy\n",
        "\n",
        "[spaCy](https://spacy.io) is a free, open-source library for advanced Natural Language Processing (NLP) in Python.\n",
        "\n",
        "spaCy is designed specifically for production use and helps you build applications that process and “understand” large volumes of text. It can be used to build information extraction or natural language understanding systems, or to pre-process text for deep learning."
      ],
      "metadata": {
        "id": "vvRd4TzTm4uJ"
      }
    },
    {
      "cell_type": "markdown",
      "source": [
        "### Features\n",
        "\n",
        "Name | Description\n",
        "---|---\n",
        "**Tokenization** | Segmenting text into words, punctuations marks etc.\n",
        "**Part-of-speech (POS) Tagging** | Assigning word types to tokens, like verb or noun.\n",
        "**Dependency Parsing** | Assigning syntactic dependency labels, describing the relations between individual tokens, like subject or object.\n",
        "**Lemmatization** |\tAssigning the base forms of words. For example, the lemma of “was” is “be”, and the lemma of “rats” is “rat”.\n",
        "**Sentence Boundary Detection (SBD)** |\tFinding and segmenting individual sentences.\n",
        "**Named Entity Recognition (NER)** | Labelling named “real-world” objects, like persons, companies or locations.\n",
        "**Entity Linking (EL)** | Disambiguating textual entities to unique identifiers in a knowledge base.\n",
        "**Similarity** | Comparing words, text spans and documents and how similar they are to each other.\n",
        "**Text Classification** | Assigning categories or labels to a whole document, or parts of a document.\n",
        "**Rule-based Matching** | Finding sequences of tokens based on their texts and linguistic annotations, similar to regular expressions.\n",
        "**Training** | Updating and improving a statistical model’s predictions.\n",
        "**Serialization** | Saving objects to files or byte strings."
      ],
      "metadata": {
        "id": "i_HhgHSAR5gI"
      }
    },
    {
      "cell_type": "markdown",
      "source": [
        "### Trained Pipelines\n",
        "\n",
        "While some of spaCy’s features work independently, others require [trained pipelines](https://spacy.io/models) to be loaded, which enable spaCy to predict linguistic annotations – for example, whether a word is a verb or a noun. A trained pipeline can consist of multiple components that use a statistical model trained on labeled data. spaCy currently offers trained pipelines for a variety of languages, which can be installed as individual Python modules."
      ],
      "metadata": {
        "id": "ryBLzQt2R0AD"
      }
    },
    {
      "cell_type": "markdown",
      "source": [
        "### Summarization Example\n",
        "Let's take a look at some of the functionality of spaCy through the example of [automatic summarization](https://medium.com/luisfredgs/automatic-text-summarization-with-machine-learning-an-overview-68ded5717a25). There are two main types of summarization: extractive and abstractive. Extractive summarization selects a subset of sentences from the text to form a summary; abstractive summarization reorganizes the language in the text and adds novel words/phrases into the summary if necessary.\n",
        "\n",
        "For this example we'll be doing automatic [extractive summarization](https://medium.com/analytics-vidhya/text-summarization-using-spacy-ca4867c6b744)."
      ],
      "metadata": {
        "id": "yGGTyegyYyI_"
      }
    },
    {
      "cell_type": "markdown",
      "source": [
        "First install spaCy:"
      ],
      "metadata": {
        "id": "fQ8XS7evav7g"
      }
    },
    {
      "cell_type": "code",
      "source": [
        "!pip install -U spacy"
      ],
      "metadata": {
        "id": "C18jWsZaTwid",
        "colab": {
          "base_uri": "https://localhost:8080/"
        },
        "outputId": "ded103a8-1214-47ae-affa-d0dba3b42239"
      },
      "execution_count": 1,
      "outputs": [
        {
          "output_type": "stream",
          "name": "stdout",
          "text": [
            "Requirement already satisfied: spacy in /usr/local/lib/python3.10/dist-packages (3.7.1)\n",
            "Requirement already satisfied: spacy-legacy<3.1.0,>=3.0.11 in /usr/local/lib/python3.10/dist-packages (from spacy) (3.0.12)\n",
            "Requirement already satisfied: spacy-loggers<2.0.0,>=1.0.0 in /usr/local/lib/python3.10/dist-packages (from spacy) (1.0.5)\n",
            "Requirement already satisfied: murmurhash<1.1.0,>=0.28.0 in /usr/local/lib/python3.10/dist-packages (from spacy) (1.0.10)\n",
            "Requirement already satisfied: cymem<2.1.0,>=2.0.2 in /usr/local/lib/python3.10/dist-packages (from spacy) (2.0.8)\n",
            "Requirement already satisfied: preshed<3.1.0,>=3.0.2 in /usr/local/lib/python3.10/dist-packages (from spacy) (3.0.9)\n",
            "Requirement already satisfied: thinc<8.3.0,>=8.1.8 in /usr/local/lib/python3.10/dist-packages (from spacy) (8.1.12)\n",
            "Requirement already satisfied: wasabi<1.2.0,>=0.9.1 in /usr/local/lib/python3.10/dist-packages (from spacy) (1.1.2)\n",
            "Requirement already satisfied: srsly<3.0.0,>=2.4.3 in /usr/local/lib/python3.10/dist-packages (from spacy) (2.4.8)\n",
            "Requirement already satisfied: catalogue<2.1.0,>=2.0.6 in /usr/local/lib/python3.10/dist-packages (from spacy) (2.0.10)\n",
            "Requirement already satisfied: weasel<0.4.0,>=0.1.0 in /usr/local/lib/python3.10/dist-packages (from spacy) (0.3.2)\n",
            "Requirement already satisfied: typer<0.10.0,>=0.3.0 in /usr/local/lib/python3.10/dist-packages (from spacy) (0.9.0)\n",
            "Requirement already satisfied: pathy>=0.10.0 in /usr/local/lib/python3.10/dist-packages (from spacy) (0.10.2)\n",
            "Requirement already satisfied: smart-open<7.0.0,>=5.2.1 in /usr/local/lib/python3.10/dist-packages (from spacy) (6.4.0)\n",
            "Requirement already satisfied: tqdm<5.0.0,>=4.38.0 in /usr/local/lib/python3.10/dist-packages (from spacy) (4.66.1)\n",
            "Requirement already satisfied: requests<3.0.0,>=2.13.0 in /usr/local/lib/python3.10/dist-packages (from spacy) (2.31.0)\n",
            "Requirement already satisfied: pydantic!=1.8,!=1.8.1,<3.0.0,>=1.7.4 in /usr/local/lib/python3.10/dist-packages (from spacy) (1.10.13)\n",
            "Requirement already satisfied: jinja2 in /usr/local/lib/python3.10/dist-packages (from spacy) (3.1.2)\n",
            "Requirement already satisfied: setuptools in /usr/local/lib/python3.10/dist-packages (from spacy) (67.7.2)\n",
            "Requirement already satisfied: packaging>=20.0 in /usr/local/lib/python3.10/dist-packages (from spacy) (23.2)\n",
            "Requirement already satisfied: langcodes<4.0.0,>=3.2.0 in /usr/local/lib/python3.10/dist-packages (from spacy) (3.3.0)\n",
            "Requirement already satisfied: numpy>=1.19.0 in /usr/local/lib/python3.10/dist-packages (from spacy) (1.23.5)\n",
            "Requirement already satisfied: typing-extensions>=4.2.0 in /usr/local/lib/python3.10/dist-packages (from pydantic!=1.8,!=1.8.1,<3.0.0,>=1.7.4->spacy) (4.5.0)\n",
            "Requirement already satisfied: charset-normalizer<4,>=2 in /usr/local/lib/python3.10/dist-packages (from requests<3.0.0,>=2.13.0->spacy) (3.3.0)\n",
            "Requirement already satisfied: idna<4,>=2.5 in /usr/local/lib/python3.10/dist-packages (from requests<3.0.0,>=2.13.0->spacy) (3.4)\n",
            "Requirement already satisfied: urllib3<3,>=1.21.1 in /usr/local/lib/python3.10/dist-packages (from requests<3.0.0,>=2.13.0->spacy) (2.0.6)\n",
            "Requirement already satisfied: certifi>=2017.4.17 in /usr/local/lib/python3.10/dist-packages (from requests<3.0.0,>=2.13.0->spacy) (2023.7.22)\n",
            "Requirement already satisfied: blis<0.8.0,>=0.7.8 in /usr/local/lib/python3.10/dist-packages (from thinc<8.3.0,>=8.1.8->spacy) (0.7.11)\n",
            "Requirement already satisfied: confection<1.0.0,>=0.0.1 in /usr/local/lib/python3.10/dist-packages (from thinc<8.3.0,>=8.1.8->spacy) (0.1.3)\n",
            "Requirement already satisfied: click<9.0.0,>=7.1.1 in /usr/local/lib/python3.10/dist-packages (from typer<0.10.0,>=0.3.0->spacy) (8.1.7)\n",
            "Requirement already satisfied: cloudpathlib<0.16.0,>=0.7.0 in /usr/local/lib/python3.10/dist-packages (from weasel<0.4.0,>=0.1.0->spacy) (0.15.1)\n",
            "Requirement already satisfied: MarkupSafe>=2.0 in /usr/local/lib/python3.10/dist-packages (from jinja2->spacy) (2.1.3)\n"
          ]
        }
      ]
    },
    {
      "cell_type": "markdown",
      "source": [
        "Then import all necessary modules:"
      ],
      "metadata": {
        "id": "owNTDP4lazIk"
      }
    },
    {
      "cell_type": "code",
      "source": [
        "import spacy\n",
        "from spacy.lang.en.stop_words import STOP_WORDS\n",
        "from string import punctuation\n",
        "from collections import Counter\n",
        "from heapq import nlargest"
      ],
      "metadata": {
        "id": "kCxIVdDk0_cQ"
      },
      "execution_count": 2,
      "outputs": []
    },
    {
      "cell_type": "markdown",
      "source": [
        "There are many [other languages](https://spacy.io/usage/models) to choose from. Here we load the English language models:"
      ],
      "metadata": {
        "id": "Y_CC1uaSbAk0"
      }
    },
    {
      "cell_type": "code",
      "source": [
        "nlp = spacy.load('en_core_web_sm')"
      ],
      "metadata": {
        "id": "maUkAIjd1ASa",
        "colab": {
          "base_uri": "https://localhost:8080/"
        },
        "outputId": "f17427cd-dd38-4711-f9b3-3204a344e40d"
      },
      "execution_count": 3,
      "outputs": [
        {
          "output_type": "stream",
          "name": "stderr",
          "text": [
            "/usr/local/lib/python3.10/dist-packages/spacy/util.py:910: UserWarning: [W095] Model 'en_core_web_sm' (3.6.0) was trained with spaCy v3.6.0 and may not be 100% compatible with the current version (3.7.1). If you see errors or degraded performance, download a newer compatible model or retrain your custom model with the current spaCy version. For more details and available updates, run: python -m spacy validate\n",
            "  warnings.warn(warn_msg)\n"
          ]
        }
      ]
    },
    {
      "cell_type": "markdown",
      "source": [
        "Choose some text to be summarized and store it in a variable:"
      ],
      "metadata": {
        "id": "b6Se2Tj0a6z9"
      }
    },
    {
      "cell_type": "code",
      "source": [
        "long_text = \"\"\"\n",
        "Machine learning (ML) is the scientific study of algorithms and statistical models\n",
        "that computer systems use to progressively improve their performance on a specific\n",
        "task. Machine learning algorithms build a mathematical model of sample data, known as\n",
        "“training data”, in order to make predictions or decisions without being explicitly\n",
        "programmed to perform the task. Machine learning algorithms are used in the applications\n",
        "of email filtering, detection of network intruders, and computer vision, where it\n",
        "is infeasible to develop an algorithm of specific instructions for performing the task.\n",
        "Machine learning is closely related to computational statistics, which focuses on\n",
        "making predictions using computers. The study of mathematical optimization delivers\n",
        "methods, theory and application domains to the field of machine learning. Data mining\n",
        "is a field of study within machine learning and focuses on exploratory data analysis\n",
        "through unsupervised learning. In its application across business problems, machine\n",
        "learning is also referred to as predictive analytics.\n",
        "\"\"\""
      ],
      "metadata": {
        "id": "1UejJJP_1NM1"
      },
      "execution_count": 4,
      "outputs": []
    },
    {
      "cell_type": "markdown",
      "source": [
        "Pass the text to the `nlp` function:"
      ],
      "metadata": {
        "id": "psGxQfn6bS2z"
      }
    },
    {
      "cell_type": "code",
      "source": [
        "doc = nlp(long_text)"
      ],
      "metadata": {
        "id": "tZ-X-fVX1Qlj"
      },
      "execution_count": 5,
      "outputs": []
    },
    {
      "cell_type": "markdown",
      "source": [
        "At this point, the text has been processed, i.e., tokenized, lemmatized, tagged with parts-of-speech, and parsed. A variety of lingustic features are accessbile via the `doc` object, e.g.:\n",
        "\n",
        "* Lemmas\n",
        "* Parts of speech\n",
        "* Dependency parse\n",
        "* Named entities\n",
        "* Chunks\n",
        "* Is alphabet character\n",
        "* Is capitalized\n",
        "* Is in the stop list\n",
        "\n",
        "The following will print out each of those bits of information for every token in the original text, one token per line:"
      ],
      "metadata": {
        "id": "s7oEufIlb31T"
      }
    },
    {
      "cell_type": "code",
      "source": [
        "for token in doc:\n",
        "    print(token.text, token.lemma_, token.pos_, token.tag_, token.dep_,\n",
        "            token.shape_, token.is_alpha, token.is_stop)"
      ],
      "metadata": {
        "id": "CBCarRfubsOs",
        "colab": {
          "base_uri": "https://localhost:8080/"
        },
        "outputId": "943e2073-7fb1-48e5-9756-3be078e55bc6"
      },
      "execution_count": 6,
      "outputs": [
        {
          "output_type": "stream",
          "name": "stdout",
          "text": [
            "\n",
            " \n",
            " SPACE _SP dep \n",
            " False False\n",
            "Machine Machine PROPN NNP compound Xxxxx True False\n",
            "learning learning NOUN NN nsubj xxxx True False\n",
            "( ( PUNCT -LRB- punct ( False False\n",
            "ML ML PROPN NNP appos XX True False\n",
            ") ) PUNCT -RRB- punct ) False False\n",
            "is be AUX VBZ ROOT xx True True\n",
            "the the DET DT det xxx True True\n",
            "scientific scientific ADJ JJ amod xxxx True False\n",
            "study study NOUN NN attr xxxx True False\n",
            "of of ADP IN prep xx True True\n",
            "algorithms algorithm NOUN NNS pobj xxxx True False\n",
            "and and CCONJ CC cc xxx True True\n",
            "statistical statistical ADJ JJ amod xxxx True False\n",
            "models model NOUN NNS conj xxxx True False\n",
            "\n",
            " \n",
            " SPACE _SP dep \n",
            " False False\n",
            "that that SCONJ IN mark xxxx True True\n",
            "computer computer NOUN NN compound xxxx True False\n",
            "systems system NOUN NNS nsubj xxxx True False\n",
            "use use VERB VBP relcl xxx True False\n",
            "to to PART TO aux xx True True\n",
            "progressively progressively ADV RB advmod xxxx True False\n",
            "improve improve VERB VB xcomp xxxx True False\n",
            "their their PRON PRP$ poss xxxx True True\n",
            "performance performance NOUN NN dobj xxxx True False\n",
            "on on ADP IN prep xx True True\n",
            "a a DET DT det x True True\n",
            "specific specific ADJ JJ amod xxxx True False\n",
            "\n",
            " \n",
            " SPACE _SP dep \n",
            " False False\n",
            "task task NOUN NN pobj xxxx True False\n",
            ". . PUNCT . punct . False False\n",
            "Machine machine NOUN NN compound Xxxxx True False\n",
            "learning learn VERB VBG compound xxxx True False\n",
            "algorithms algorithm NOUN NNS nsubj xxxx True False\n",
            "build build VERB VBP ROOT xxxx True False\n",
            "a a DET DT det x True True\n",
            "mathematical mathematical ADJ JJ amod xxxx True False\n",
            "model model NOUN NN dobj xxxx True False\n",
            "of of ADP IN prep xx True True\n",
            "sample sample NOUN NN compound xxxx True False\n",
            "data datum NOUN NNS pobj xxxx True False\n",
            ", , PUNCT , punct , False False\n",
            "known know VERB VBN acl xxxx True False\n",
            "as as ADP IN prep xx True True\n",
            "\n",
            " \n",
            " SPACE _SP dep \n",
            " False False\n",
            "“ \" PUNCT `` punct “ False False\n",
            "training training NOUN NN compound xxxx True False\n",
            "data datum NOUN NNS pobj xxxx True False\n",
            "” \" PUNCT '' punct ” False False\n",
            ", , PUNCT , punct , False False\n",
            "in in ADP IN prep xx True True\n",
            "order order NOUN NN pobj xxxx True False\n",
            "to to PART TO aux xx True True\n",
            "make make VERB VB acl xxxx True True\n",
            "predictions prediction NOUN NNS dobj xxxx True False\n",
            "or or CCONJ CC cc xx True True\n",
            "decisions decision NOUN NNS conj xxxx True False\n",
            "without without ADP IN prep xxxx True True\n",
            "being be AUX VBG auxpass xxxx True True\n",
            "explicitly explicitly ADV RB advmod xxxx True False\n",
            "\n",
            " \n",
            " SPACE _SP dep \n",
            " False False\n",
            "programmed program VERB VBN pcomp xxxx True False\n",
            "to to PART TO aux xx True True\n",
            "perform perform VERB VB xcomp xxxx True False\n",
            "the the DET DT det xxx True True\n",
            "task task NOUN NN dobj xxxx True False\n",
            ". . PUNCT . punct . False False\n",
            "Machine machine NOUN NN compound Xxxxx True False\n",
            "learning learning NOUN NN compound xxxx True False\n",
            "algorithms algorithm NOUN NNS nsubjpass xxxx True False\n",
            "are be AUX VBP auxpass xxx True True\n",
            "used use VERB VBN ROOT xxxx True True\n",
            "in in ADP IN prep xx True True\n",
            "the the DET DT det xxx True True\n",
            "applications application NOUN NNS pobj xxxx True False\n",
            "\n",
            " \n",
            " SPACE _SP dep \n",
            " False False\n",
            "of of ADP IN prep xx True True\n",
            "email email NOUN NN compound xxxx True False\n",
            "filtering filtering NOUN NN pobj xxxx True False\n",
            ", , PUNCT , punct , False False\n",
            "detection detection NOUN NN conj xxxx True False\n",
            "of of ADP IN prep xx True True\n",
            "network network NOUN NN compound xxxx True False\n",
            "intruders intruder NOUN NNS pobj xxxx True False\n",
            ", , PUNCT , punct , False False\n",
            "and and CCONJ CC cc xxx True True\n",
            "computer computer NOUN NN compound xxxx True False\n",
            "vision vision NOUN NN conj xxxx True False\n",
            ", , PUNCT , punct , False False\n",
            "where where SCONJ WRB advmod xxxx True True\n",
            "it it PRON PRP nsubj xx True True\n",
            "\n",
            " \n",
            " SPACE _SP dep \n",
            " False False\n",
            "is be AUX VBZ relcl xx True True\n",
            "infeasible infeasible ADJ JJ acomp xxxx True False\n",
            "to to PART TO aux xx True True\n",
            "develop develop VERB VB xcomp xxxx True False\n",
            "an an DET DT det xx True True\n",
            "algorithm algorithm PROPN NNP dobj xxxx True False\n",
            "of of ADP IN prep xx True True\n",
            "specific specific ADJ JJ amod xxxx True False\n",
            "instructions instruction NOUN NNS pobj xxxx True False\n",
            "for for ADP IN prep xxx True True\n",
            "performing perform VERB VBG pcomp xxxx True False\n",
            "the the DET DT det xxx True True\n",
            "task task NOUN NN dobj xxxx True False\n",
            ". . PUNCT . punct . False False\n",
            "\n",
            " \n",
            " SPACE _SP dep \n",
            " False False\n",
            "Machine Machine PROPN NNP compound Xxxxx True False\n",
            "learning learning NOUN NN nsubjpass xxxx True False\n",
            "is be AUX VBZ auxpass xx True True\n",
            "closely closely ADV RB advmod xxxx True False\n",
            "related relate VERB VBN ROOT xxxx True False\n",
            "to to ADP IN prep xx True True\n",
            "computational computational ADJ JJ amod xxxx True False\n",
            "statistics statistic NOUN NNS pobj xxxx True False\n",
            ", , PUNCT , punct , False False\n",
            "which which PRON WDT nsubj xxxx True True\n",
            "focuses focus VERB VBZ relcl xxxx True False\n",
            "on on ADP IN prep xx True True\n",
            "\n",
            " \n",
            " SPACE _SP dep \n",
            " False False\n",
            "making make VERB VBG pcomp xxxx True False\n",
            "predictions prediction NOUN NNS dobj xxxx True False\n",
            "using use VERB VBG acl xxxx True True\n",
            "computers computer NOUN NNS dobj xxxx True False\n",
            ". . PUNCT . punct . False False\n",
            "The the DET DT det Xxx True True\n",
            "study study NOUN NN nsubj xxxx True False\n",
            "of of ADP IN prep xx True True\n",
            "mathematical mathematical ADJ JJ amod xxxx True False\n",
            "optimization optimization NOUN NN pobj xxxx True False\n",
            "delivers deliver VERB VBZ ROOT xxxx True False\n",
            "\n",
            " \n",
            " SPACE _SP dep \n",
            " False False\n",
            "methods method NOUN NNS dobj xxxx True False\n",
            ", , PUNCT , punct , False False\n",
            "theory theory NOUN NN conj xxxx True False\n",
            "and and CCONJ CC cc xxx True True\n",
            "application application NOUN NN compound xxxx True False\n",
            "domains domain NOUN NNS conj xxxx True False\n",
            "to to ADP IN prep xx True True\n",
            "the the DET DT det xxx True True\n",
            "field field NOUN NN pobj xxxx True False\n",
            "of of ADP IN prep xx True True\n",
            "machine machine NOUN NN compound xxxx True False\n",
            "learning learning NOUN NN pobj xxxx True False\n",
            ". . PUNCT . punct . False False\n",
            "Data datum NOUN NNS compound Xxxx True False\n",
            "mining mining NOUN NN nsubj xxxx True False\n",
            "\n",
            " \n",
            " SPACE _SP dep \n",
            " False False\n",
            "is be AUX VBZ ROOT xx True True\n",
            "a a DET DT det x True True\n",
            "field field NOUN NN attr xxxx True False\n",
            "of of ADP IN prep xx True True\n",
            "study study NOUN NN pobj xxxx True False\n",
            "within within ADP IN prep xxxx True True\n",
            "machine machine NOUN NN compound xxxx True False\n",
            "learning learning NOUN NN pobj xxxx True False\n",
            "and and CCONJ CC cc xxx True True\n",
            "focuses focus VERB VBZ conj xxxx True False\n",
            "on on ADP IN prep xx True True\n",
            "exploratory exploratory ADJ JJ amod xxxx True False\n",
            "data datum NOUN NNS compound xxxx True False\n",
            "analysis analysis NOUN NN pobj xxxx True False\n",
            "\n",
            " \n",
            " SPACE _SP dep \n",
            " False False\n",
            "through through ADP IN prep xxxx True True\n",
            "unsupervised unsupervised ADJ JJ amod xxxx True False\n",
            "learning learning NOUN NN pobj xxxx True False\n",
            ". . PUNCT . punct . False False\n",
            "In in ADP IN prep Xx True True\n",
            "its its PRON PRP$ poss xxx True True\n",
            "application application NOUN NN pobj xxxx True False\n",
            "across across ADP IN prep xxxx True True\n",
            "business business NOUN NN compound xxxx True False\n",
            "problems problem NOUN NNS pobj xxxx True False\n",
            ", , PUNCT , punct , False False\n",
            "machine machine NOUN NN compound xxxx True False\n",
            "\n",
            " \n",
            " SPACE _SP dep \n",
            " False False\n",
            "learning learning NOUN NN nsubjpass xxxx True False\n",
            "is be AUX VBZ auxpass xx True True\n",
            "also also ADV RB advmod xxxx True True\n",
            "referred refer VERB VBN ROOT xxxx True False\n",
            "to to ADP IN prep xx True True\n",
            "as as ADP IN prep xx True True\n",
            "predictive predictive ADJ JJ amod xxxx True False\n",
            "analytics analytic NOUN NNS pobj xxxx True False\n",
            ". . PUNCT . punct . False False\n",
            "\n",
            " \n",
            " SPACE _SP dep \n",
            " False False\n"
          ]
        }
      ]
    },
    {
      "cell_type": "markdown",
      "source": [
        "Next, we'll use this information to filter keywords from the original text.\n",
        "\n",
        "* Define the keywords list\n",
        "* Choose the parts-of-speech that are likely to be important ([pos tags in spaCy](https://spacy.io/usage/linguistic-features/#pos-tagging))\n",
        "* Skip tokens that are in the stop list\n",
        "* Add tokens that have the part-of-speech we care about to the keywords list"
      ],
      "metadata": {
        "id": "Q3NBen5aeQLb"
      }
    },
    {
      "cell_type": "code",
      "source": [
        "keywords = []\n",
        "pos_tags = [\"PROPN\", \"ADJ\", \"NOUN\", \"VERB\"]\n",
        "for token in doc:\n",
        "  if token.is_stop:\n",
        "    continue\n",
        "  if token.pos_ in pos_tags:\n",
        "    keywords.append(token.text)"
      ],
      "metadata": {
        "id": "wHhJ4dUzebKQ"
      },
      "execution_count": 7,
      "outputs": []
    },
    {
      "cell_type": "markdown",
      "source": [
        "Next, we calculate the frequency of each token using the `Counter` function and store it in `freq_words`.\n",
        "\n",
        "To view the top `n` most frequent words, the `most_common(n)` method can be used:"
      ],
      "metadata": {
        "id": "flCldV1PfwGr"
      }
    },
    {
      "cell_type": "code",
      "source": [
        "freq_words = Counter(keywords)\n",
        "freq_words.most_common(5)"
      ],
      "metadata": {
        "id": "uudzeyqtfNmJ",
        "colab": {
          "base_uri": "https://localhost:8080/"
        },
        "outputId": "8498222e-6b19-44db-a309-6b0138234ab4"
      },
      "execution_count": 8,
      "outputs": [
        {
          "output_type": "execute_result",
          "data": {
            "text/plain": [
              "[('learning', 8), ('Machine', 4), ('study', 3), ('algorithms', 3), ('task', 3)]"
            ]
          },
          "metadata": {},
          "execution_count": 8
        }
      ]
    },
    {
      "cell_type": "markdown",
      "source": [
        "This frequency should be normalised for better processing and it can be done by dividing the token's frequencies by the maximum frequency:"
      ],
      "metadata": {
        "id": "PeF7er2qgUJl"
      }
    },
    {
      "cell_type": "code",
      "source": [
        "max_freq = freq_words.most_common(1)[0][1]\n",
        "for word in freq_words.keys():\n",
        "  freq_words[word] = (freq_words[word]/max_freq)\n",
        "\n",
        "freq_words.most_common(5)"
      ],
      "metadata": {
        "id": "PrRJ5l2Aga-M",
        "colab": {
          "base_uri": "https://localhost:8080/"
        },
        "outputId": "21c9322b-85cf-426a-855d-22111602658a"
      },
      "execution_count": 9,
      "outputs": [
        {
          "output_type": "execute_result",
          "data": {
            "text/plain": [
              "[('learning', 1.0),\n",
              " ('Machine', 0.5),\n",
              " ('study', 0.375),\n",
              " ('algorithms', 0.375),\n",
              " ('task', 0.375)]"
            ]
          },
          "metadata": {},
          "execution_count": 9
        }
      ]
    },
    {
      "cell_type": "markdown",
      "source": [
        "Next, we weigh each sentence based on the frequency of the keyword token present in each sentence. The result is stored as a key-value pair in `sent_strength` where keys are the sentences and the values are the weight of each sentence:"
      ],
      "metadata": {
        "id": "xQLm6730hYoQ"
      }
    },
    {
      "cell_type": "code",
      "source": [
        "sent_strength = {}\n",
        "for sent in doc.sents:\n",
        "  for word in sent:\n",
        "    if word.text in freq_words.keys():\n",
        "      if sent in sent_strength.keys():\n",
        "        sent_strength[sent] += freq_words[word.text]\n",
        "      else:\n",
        "        sent_strength[sent] = freq_words[word.text]\n",
        "\n",
        "print(sent_strength)"
      ],
      "metadata": {
        "id": "MYAwZi2yhwE9",
        "colab": {
          "base_uri": "https://localhost:8080/"
        },
        "outputId": "94f8a6ea-04c8-403b-db52-be4c52446f39"
      },
      "execution_count": 10,
      "outputs": [
        {
          "output_type": "stream",
          "name": "stdout",
          "text": [
            "{\n",
            "Machine learning (ML) is the scientific study of algorithms and statistical models\n",
            "that computer systems use to progressively improve their performance on a specific\n",
            "task.: 4.125, Machine learning algorithms build a mathematical model of sample data, known as\n",
            "“training data”, in order to make predictions or decisions without being explicitly\n",
            "programmed to perform the task.: 4.625, Machine learning algorithms are used in the applications\n",
            "of email filtering, detection of network intruders, and computer vision, where it\n",
            "is infeasible to develop an algorithm of specific instructions for performing the task.\n",
            ": 4.25, Machine learning is closely related to computational statistics, which focuses on\n",
            "making predictions using computers.: 2.625, The study of mathematical optimization delivers\n",
            "methods, theory and application domains to the field of machine learning.: 3.125, Data mining\n",
            "is a field of study within machine learning and focuses on exploratory data analysis\n",
            "through unsupervised learning.: 4.25, In its application across business problems, machine\n",
            "learning is also referred to as predictive analytics.\n",
            ": 2.25}\n"
          ]
        }
      ]
    },
    {
      "cell_type": "markdown",
      "source": [
        "Next, the `nlargest` function is used to summarize the string. It takes 3 arguments:\n",
        "\n",
        "* Number of elements to extract\n",
        "* An Iterable (List/Tuple/Dictionary)\n",
        "* Condition to be satisfied\n",
        "\n",
        "This nlargest function returns a list containing the 3 sentences with the highest sentence strength score calculated in the previous step.\n",
        "\n",
        "We store this output in `summarized_sentences`:"
      ],
      "metadata": {
        "id": "cbmO3Ac-i3zQ"
      }
    },
    {
      "cell_type": "code",
      "source": [
        "summarized_sentences = nlargest(4, sent_strength, key=sent_strength.get)\n",
        "\n",
        "print(summarized_sentences)"
      ],
      "metadata": {
        "id": "YJ8N3d0oi3U1",
        "colab": {
          "base_uri": "https://localhost:8080/"
        },
        "outputId": "a454a6ba-a807-4ba8-94f4-7246c1a0daf9"
      },
      "execution_count": 11,
      "outputs": [
        {
          "output_type": "stream",
          "name": "stdout",
          "text": [
            "[Machine learning algorithms build a mathematical model of sample data, known as\n",
            "“training data”, in order to make predictions or decisions without being explicitly\n",
            "programmed to perform the task., Machine learning algorithms are used in the applications\n",
            "of email filtering, detection of network intruders, and computer vision, where it\n",
            "is infeasible to develop an algorithm of specific instructions for performing the task.\n",
            ", Data mining\n",
            "is a field of study within machine learning and focuses on exploratory data analysis\n",
            "through unsupervised learning., \n",
            "Machine learning (ML) is the scientific study of algorithms and statistical models\n",
            "that computer systems use to progressively improve their performance on a specific\n",
            "task.]\n"
          ]
        }
      ]
    },
    {
      "cell_type": "markdown",
      "source": [
        "Lastly, convert the text data in the `summarized_sentences` to a string and print it:"
      ],
      "metadata": {
        "id": "bw3aCNVakFBr"
      }
    },
    {
      "cell_type": "code",
      "source": [
        "final_sentences = [w.text for w in summarized_sentences]\n",
        "summary = ' '.join(final_sentences)\n",
        "print(summary)"
      ],
      "metadata": {
        "id": "bCJEnu8IkEYZ",
        "colab": {
          "base_uri": "https://localhost:8080/"
        },
        "outputId": "afc2512b-55f5-4b5f-c6d2-dc3d9d97eca8"
      },
      "execution_count": 12,
      "outputs": [
        {
          "output_type": "stream",
          "name": "stdout",
          "text": [
            "Machine learning algorithms build a mathematical model of sample data, known as\n",
            "“training data”, in order to make predictions or decisions without being explicitly\n",
            "programmed to perform the task. Machine learning algorithms are used in the applications\n",
            "of email filtering, detection of network intruders, and computer vision, where it\n",
            "is infeasible to develop an algorithm of specific instructions for performing the task.\n",
            " Data mining\n",
            "is a field of study within machine learning and focuses on exploratory data analysis\n",
            "through unsupervised learning. \n",
            "Machine learning (ML) is the scientific study of algorithms and statistical models\n",
            "that computer systems use to progressively improve their performance on a specific\n",
            "task.\n"
          ]
        }
      ]
    },
    {
      "cell_type": "markdown",
      "source": [
        "This example only shows a very limited application of [spaCy](https://spacy.io). The package has many powerful tools to create NLP applications."
      ],
      "metadata": {
        "id": "Qiro7L8QB_MT"
      }
    },
    {
      "cell_type": "markdown",
      "source": [
        "##Gradio\n",
        "[Gradio](https://gradio.app) is a fast way to demo your machine learning model with a nice web interface so that anyone can use it. The possibilities with Gradio are vast, this lab only scratches the surface.\n",
        "\n",
        "Here's the setup for a very basic UI:\n",
        "\n",
        "* First, define a function that does your main processing when users click the 'Submit' button in the UI.\n",
        "* Then define a gradio `Interface` called `demo`. This constructor has several arguments:\n",
        "  * The first in this example is the name of the function you defined\n",
        "  * The second is the type of inputs you want to capture (one text input in this case)\n",
        "  * The third is the type of output (also text)\n",
        "* Lastly, call the `Interface` object's `launch()` function to render the UI."
      ],
      "metadata": {
        "id": "Y5H2IZshEfqR"
      }
    },
    {
      "cell_type": "code",
      "source": [
        "!pip install gradio"
      ],
      "metadata": {
        "id": "eMMGtUA1pCsV",
        "colab": {
          "base_uri": "https://localhost:8080/"
        },
        "outputId": "dc5f5735-9ae2-43cf-cf15-32f458d32793"
      },
      "execution_count": 13,
      "outputs": [
        {
          "output_type": "stream",
          "name": "stdout",
          "text": [
            "Requirement already satisfied: gradio in /usr/local/lib/python3.10/dist-packages (3.47.1)\n",
            "Requirement already satisfied: aiofiles<24.0,>=22.0 in /usr/local/lib/python3.10/dist-packages (from gradio) (23.2.1)\n",
            "Requirement already satisfied: altair<6.0,>=4.2.0 in /usr/local/lib/python3.10/dist-packages (from gradio) (4.2.2)\n",
            "Requirement already satisfied: fastapi in /usr/local/lib/python3.10/dist-packages (from gradio) (0.103.2)\n",
            "Requirement already satisfied: ffmpy in /usr/local/lib/python3.10/dist-packages (from gradio) (0.3.1)\n",
            "Requirement already satisfied: gradio-client==0.6.0 in /usr/local/lib/python3.10/dist-packages (from gradio) (0.6.0)\n",
            "Requirement already satisfied: httpx in /usr/local/lib/python3.10/dist-packages (from gradio) (0.25.0)\n",
            "Requirement already satisfied: huggingface-hub>=0.14.0 in /usr/local/lib/python3.10/dist-packages (from gradio) (0.17.3)\n",
            "Requirement already satisfied: importlib-resources<7.0,>=1.3 in /usr/local/lib/python3.10/dist-packages (from gradio) (6.1.0)\n",
            "Requirement already satisfied: jinja2<4.0 in /usr/local/lib/python3.10/dist-packages (from gradio) (3.1.2)\n",
            "Requirement already satisfied: markupsafe~=2.0 in /usr/local/lib/python3.10/dist-packages (from gradio) (2.1.3)\n",
            "Requirement already satisfied: matplotlib~=3.0 in /usr/local/lib/python3.10/dist-packages (from gradio) (3.7.1)\n",
            "Requirement already satisfied: numpy~=1.0 in /usr/local/lib/python3.10/dist-packages (from gradio) (1.23.5)\n",
            "Requirement already satisfied: orjson~=3.0 in /usr/local/lib/python3.10/dist-packages (from gradio) (3.9.9)\n",
            "Requirement already satisfied: packaging in /usr/local/lib/python3.10/dist-packages (from gradio) (23.2)\n",
            "Requirement already satisfied: pandas<3.0,>=1.0 in /usr/local/lib/python3.10/dist-packages (from gradio) (1.5.3)\n",
            "Requirement already satisfied: pillow<11.0,>=8.0 in /usr/local/lib/python3.10/dist-packages (from gradio) (9.4.0)\n",
            "Requirement already satisfied: pydantic!=1.8,!=1.8.1,!=2.0.0,!=2.0.1,<3.0.0,>=1.7.4 in /usr/local/lib/python3.10/dist-packages (from gradio) (1.10.13)\n",
            "Requirement already satisfied: pydub in /usr/local/lib/python3.10/dist-packages (from gradio) (0.25.1)\n",
            "Requirement already satisfied: python-multipart in /usr/local/lib/python3.10/dist-packages (from gradio) (0.0.6)\n",
            "Requirement already satisfied: pyyaml<7.0,>=5.0 in /usr/local/lib/python3.10/dist-packages (from gradio) (6.0.1)\n",
            "Requirement already satisfied: requests~=2.0 in /usr/local/lib/python3.10/dist-packages (from gradio) (2.31.0)\n",
            "Requirement already satisfied: semantic-version~=2.0 in /usr/local/lib/python3.10/dist-packages (from gradio) (2.10.0)\n",
            "Requirement already satisfied: typing-extensions~=4.0 in /usr/local/lib/python3.10/dist-packages (from gradio) (4.5.0)\n",
            "Requirement already satisfied: uvicorn>=0.14.0 in /usr/local/lib/python3.10/dist-packages (from gradio) (0.23.2)\n",
            "Requirement already satisfied: websockets<12.0,>=10.0 in /usr/local/lib/python3.10/dist-packages (from gradio) (11.0.3)\n",
            "Requirement already satisfied: fsspec in /usr/local/lib/python3.10/dist-packages (from gradio-client==0.6.0->gradio) (2023.6.0)\n",
            "Requirement already satisfied: entrypoints in /usr/local/lib/python3.10/dist-packages (from altair<6.0,>=4.2.0->gradio) (0.4)\n",
            "Requirement already satisfied: jsonschema>=3.0 in /usr/local/lib/python3.10/dist-packages (from altair<6.0,>=4.2.0->gradio) (4.19.1)\n",
            "Requirement already satisfied: toolz in /usr/local/lib/python3.10/dist-packages (from altair<6.0,>=4.2.0->gradio) (0.12.0)\n",
            "Requirement already satisfied: filelock in /usr/local/lib/python3.10/dist-packages (from huggingface-hub>=0.14.0->gradio) (3.12.4)\n",
            "Requirement already satisfied: tqdm>=4.42.1 in /usr/local/lib/python3.10/dist-packages (from huggingface-hub>=0.14.0->gradio) (4.66.1)\n",
            "Requirement already satisfied: contourpy>=1.0.1 in /usr/local/lib/python3.10/dist-packages (from matplotlib~=3.0->gradio) (1.1.1)\n",
            "Requirement already satisfied: cycler>=0.10 in /usr/local/lib/python3.10/dist-packages (from matplotlib~=3.0->gradio) (0.12.1)\n",
            "Requirement already satisfied: fonttools>=4.22.0 in /usr/local/lib/python3.10/dist-packages (from matplotlib~=3.0->gradio) (4.43.1)\n",
            "Requirement already satisfied: kiwisolver>=1.0.1 in /usr/local/lib/python3.10/dist-packages (from matplotlib~=3.0->gradio) (1.4.5)\n",
            "Requirement already satisfied: pyparsing>=2.3.1 in /usr/local/lib/python3.10/dist-packages (from matplotlib~=3.0->gradio) (3.1.1)\n",
            "Requirement already satisfied: python-dateutil>=2.7 in /usr/local/lib/python3.10/dist-packages (from matplotlib~=3.0->gradio) (2.8.2)\n",
            "Requirement already satisfied: pytz>=2020.1 in /usr/local/lib/python3.10/dist-packages (from pandas<3.0,>=1.0->gradio) (2023.3.post1)\n",
            "Requirement already satisfied: charset-normalizer<4,>=2 in /usr/local/lib/python3.10/dist-packages (from requests~=2.0->gradio) (3.3.0)\n",
            "Requirement already satisfied: idna<4,>=2.5 in /usr/local/lib/python3.10/dist-packages (from requests~=2.0->gradio) (3.4)\n",
            "Requirement already satisfied: urllib3<3,>=1.21.1 in /usr/local/lib/python3.10/dist-packages (from requests~=2.0->gradio) (2.0.6)\n",
            "Requirement already satisfied: certifi>=2017.4.17 in /usr/local/lib/python3.10/dist-packages (from requests~=2.0->gradio) (2023.7.22)\n",
            "Requirement already satisfied: click>=7.0 in /usr/local/lib/python3.10/dist-packages (from uvicorn>=0.14.0->gradio) (8.1.7)\n",
            "Requirement already satisfied: h11>=0.8 in /usr/local/lib/python3.10/dist-packages (from uvicorn>=0.14.0->gradio) (0.14.0)\n",
            "Requirement already satisfied: anyio<4.0.0,>=3.7.1 in /usr/local/lib/python3.10/dist-packages (from fastapi->gradio) (3.7.1)\n",
            "Requirement already satisfied: starlette<0.28.0,>=0.27.0 in /usr/local/lib/python3.10/dist-packages (from fastapi->gradio) (0.27.0)\n",
            "Requirement already satisfied: httpcore<0.19.0,>=0.18.0 in /usr/local/lib/python3.10/dist-packages (from httpx->gradio) (0.18.0)\n",
            "Requirement already satisfied: sniffio in /usr/local/lib/python3.10/dist-packages (from httpx->gradio) (1.3.0)\n",
            "Requirement already satisfied: exceptiongroup in /usr/local/lib/python3.10/dist-packages (from anyio<4.0.0,>=3.7.1->fastapi->gradio) (1.1.3)\n",
            "Requirement already satisfied: attrs>=22.2.0 in /usr/local/lib/python3.10/dist-packages (from jsonschema>=3.0->altair<6.0,>=4.2.0->gradio) (23.1.0)\n",
            "Requirement already satisfied: jsonschema-specifications>=2023.03.6 in /usr/local/lib/python3.10/dist-packages (from jsonschema>=3.0->altair<6.0,>=4.2.0->gradio) (2023.7.1)\n",
            "Requirement already satisfied: referencing>=0.28.4 in /usr/local/lib/python3.10/dist-packages (from jsonschema>=3.0->altair<6.0,>=4.2.0->gradio) (0.30.2)\n",
            "Requirement already satisfied: rpds-py>=0.7.1 in /usr/local/lib/python3.10/dist-packages (from jsonschema>=3.0->altair<6.0,>=4.2.0->gradio) (0.10.4)\n",
            "Requirement already satisfied: six>=1.5 in /usr/local/lib/python3.10/dist-packages (from python-dateutil>=2.7->matplotlib~=3.0->gradio) (1.16.0)\n"
          ]
        }
      ]
    },
    {
      "cell_type": "code",
      "source": [
        "import gradio as gr"
      ],
      "metadata": {
        "id": "LaQ9oqy4USou"
      },
      "execution_count": 14,
      "outputs": []
    },
    {
      "cell_type": "code",
      "source": [
        "def greet(name):\n",
        "    return \"Hello \" + name + \"!\"\n",
        "\n",
        "demo = gr.Interface(fn=greet, inputs=\"text\", outputs=\"text\")\n",
        "\n",
        "demo.launch()"
      ],
      "metadata": {
        "id": "9cB8ln93SXvg",
        "colab": {
          "base_uri": "https://localhost:8080/",
          "height": 628
        },
        "outputId": "a81abe7c-a11f-4bb8-f80e-9e384898235e"
      },
      "execution_count": 15,
      "outputs": [
        {
          "output_type": "stream",
          "name": "stdout",
          "text": [
            "Setting queue=True in a Colab notebook requires sharing enabled. Setting `share=True` (you can turn this off by setting `share=False` in `launch()` explicitly).\n",
            "\n",
            "Colab notebook detected. To show errors in colab notebook, set debug=True in launch()\n",
            "Running on public URL: https://584134c8de835b6924.gradio.live\n",
            "\n",
            "This share link expires in 72 hours. For free permanent hosting and GPU upgrades, run `gradio deploy` from Terminal to deploy to Spaces (https://huggingface.co/spaces)\n"
          ]
        },
        {
          "output_type": "display_data",
          "data": {
            "text/plain": [
              "<IPython.core.display.HTML object>"
            ],
            "text/html": [
              "<div><iframe src=\"https://584134c8de835b6924.gradio.live\" width=\"100%\" height=\"500\" allow=\"autoplay; camera; microphone; clipboard-read; clipboard-write;\" frameborder=\"0\" allowfullscreen></iframe></div>"
            ]
          },
          "metadata": {}
        },
        {
          "output_type": "execute_result",
          "data": {
            "text/plain": []
          },
          "metadata": {},
          "execution_count": 15
        }
      ]
    },
    {
      "cell_type": "markdown",
      "source": [
        "You can do any kind of processing inside your main function, like call other functions. Let's create a quick summarization tool using [sumy](https://github.com/miso-belica/sumy).\n",
        "\n",
        "* First, install the necessary packages for sumy.\n",
        "* Then import the modules for the summarization task."
      ],
      "metadata": {
        "id": "mCn4OS4UTx5t"
      }
    },
    {
      "cell_type": "code",
      "source": [
        "!pip install sumy"
      ],
      "metadata": {
        "id": "UvJiGgbiMZUm",
        "colab": {
          "base_uri": "https://localhost:8080/"
        },
        "outputId": "ae0af58d-44a8-450c-f2c7-cdbe9fdc6959"
      },
      "execution_count": 16,
      "outputs": [
        {
          "output_type": "stream",
          "name": "stdout",
          "text": [
            "Requirement already satisfied: sumy in /usr/local/lib/python3.10/dist-packages (0.11.0)\n",
            "Requirement already satisfied: docopt<0.7,>=0.6.1 in /usr/local/lib/python3.10/dist-packages (from sumy) (0.6.2)\n",
            "Requirement already satisfied: breadability>=0.1.20 in /usr/local/lib/python3.10/dist-packages (from sumy) (0.1.20)\n",
            "Requirement already satisfied: requests>=2.7.0 in /usr/local/lib/python3.10/dist-packages (from sumy) (2.31.0)\n",
            "Requirement already satisfied: pycountry>=18.2.23 in /usr/local/lib/python3.10/dist-packages (from sumy) (22.3.5)\n",
            "Requirement already satisfied: nltk>=3.0.2 in /usr/local/lib/python3.10/dist-packages (from sumy) (3.8.1)\n",
            "Requirement already satisfied: chardet in /usr/local/lib/python3.10/dist-packages (from breadability>=0.1.20->sumy) (5.2.0)\n",
            "Requirement already satisfied: lxml>=2.0 in /usr/local/lib/python3.10/dist-packages (from breadability>=0.1.20->sumy) (4.9.3)\n",
            "Requirement already satisfied: click in /usr/local/lib/python3.10/dist-packages (from nltk>=3.0.2->sumy) (8.1.7)\n",
            "Requirement already satisfied: joblib in /usr/local/lib/python3.10/dist-packages (from nltk>=3.0.2->sumy) (1.3.2)\n",
            "Requirement already satisfied: regex>=2021.8.3 in /usr/local/lib/python3.10/dist-packages (from nltk>=3.0.2->sumy) (2023.6.3)\n",
            "Requirement already satisfied: tqdm in /usr/local/lib/python3.10/dist-packages (from nltk>=3.0.2->sumy) (4.66.1)\n",
            "Requirement already satisfied: setuptools in /usr/local/lib/python3.10/dist-packages (from pycountry>=18.2.23->sumy) (67.7.2)\n",
            "Requirement already satisfied: charset-normalizer<4,>=2 in /usr/local/lib/python3.10/dist-packages (from requests>=2.7.0->sumy) (3.3.0)\n",
            "Requirement already satisfied: idna<4,>=2.5 in /usr/local/lib/python3.10/dist-packages (from requests>=2.7.0->sumy) (3.4)\n",
            "Requirement already satisfied: urllib3<3,>=1.21.1 in /usr/local/lib/python3.10/dist-packages (from requests>=2.7.0->sumy) (2.0.6)\n",
            "Requirement already satisfied: certifi>=2017.4.17 in /usr/local/lib/python3.10/dist-packages (from requests>=2.7.0->sumy) (2023.7.22)\n"
          ]
        }
      ]
    },
    {
      "cell_type": "code",
      "source": [
        "import nltk\n",
        "nltk.download('punkt')"
      ],
      "metadata": {
        "id": "SSVtbu4NM_bF",
        "colab": {
          "base_uri": "https://localhost:8080/"
        },
        "outputId": "9d02693c-4be3-465b-dc9d-e3fffbadbf4c"
      },
      "execution_count": 17,
      "outputs": [
        {
          "output_type": "stream",
          "name": "stderr",
          "text": [
            "[nltk_data] Downloading package punkt to /root/nltk_data...\n",
            "[nltk_data]   Package punkt is already up-to-date!\n"
          ]
        },
        {
          "output_type": "execute_result",
          "data": {
            "text/plain": [
              "True"
            ]
          },
          "metadata": {},
          "execution_count": 17
        }
      ]
    },
    {
      "cell_type": "code",
      "source": [
        "from sumy.parsers.plaintext import PlaintextParser\n",
        "from sumy.nlp.tokenizers import Tokenizer\n",
        "from sumy.summarizers.lsa import LsaSummarizer as Summarizer\n",
        "from sumy.nlp.stemmers import Stemmer\n",
        "from sumy.utils import get_stop_words\n",
        "\n",
        "LANGUAGE = \"english\"\n",
        "\n",
        "def sumy_summarize(txt, n_sent=1):\n",
        "  parser = PlaintextParser.from_string(txt, Tokenizer(LANGUAGE))\n",
        "  stemmer = Stemmer(LANGUAGE)\n",
        "\n",
        "  summarizer = Summarizer(stemmer)\n",
        "  summarizer.stop_words = get_stop_words(LANGUAGE)\n",
        "\n",
        "  sents = \"\"\n",
        "  for sentence in summarizer(parser.document, n_sent):\n",
        "    sents += str(sentence) + \"\\n\"\n",
        "\n",
        "  return sents"
      ],
      "metadata": {
        "id": "-fugZc-eMGNl"
      },
      "execution_count": 18,
      "outputs": []
    },
    {
      "cell_type": "markdown",
      "source": [
        "Return the output of the `sumy_summarize` function inside your main Gradio function, passing it the user input.\n",
        "\n",
        "Try using the text from the previous summarization example as input and experiment with the `n_sent` parameter."
      ],
      "metadata": {
        "id": "yFjvWx5yXiCy"
      }
    },
    {
      "cell_type": "code",
      "source": [
        "def sum(text):\n",
        "    return sumy_summarize(text)\n",
        "\n",
        "sum_demo = gr.Interface(fn=sum, inputs=\"text\", outputs=\"text\")\n",
        "sum_demo.launch()"
      ],
      "metadata": {
        "id": "70MRhhS0Twwo",
        "colab": {
          "base_uri": "https://localhost:8080/",
          "height": 628
        },
        "outputId": "5b3211e5-5236-486e-e178-83667bfd3db5"
      },
      "execution_count": 19,
      "outputs": [
        {
          "output_type": "stream",
          "name": "stdout",
          "text": [
            "Setting queue=True in a Colab notebook requires sharing enabled. Setting `share=True` (you can turn this off by setting `share=False` in `launch()` explicitly).\n",
            "\n",
            "Colab notebook detected. To show errors in colab notebook, set debug=True in launch()\n",
            "Running on public URL: https://55c1a53381685f12ea.gradio.live\n",
            "\n",
            "This share link expires in 72 hours. For free permanent hosting and GPU upgrades, run `gradio deploy` from Terminal to deploy to Spaces (https://huggingface.co/spaces)\n"
          ]
        },
        {
          "output_type": "display_data",
          "data": {
            "text/plain": [
              "<IPython.core.display.HTML object>"
            ],
            "text/html": [
              "<div><iframe src=\"https://55c1a53381685f12ea.gradio.live\" width=\"100%\" height=\"500\" allow=\"autoplay; camera; microphone; clipboard-read; clipboard-write;\" frameborder=\"0\" allowfullscreen></iframe></div>"
            ]
          },
          "metadata": {}
        },
        {
          "output_type": "execute_result",
          "data": {
            "text/plain": []
          },
          "metadata": {},
          "execution_count": 19
        }
      ]
    },
    {
      "cell_type": "markdown",
      "source": [
        "The `sumy_summarize` function takes another parameter in addition to the text:\n",
        "\n",
        "* n_sent (int or None, optional) – The number of sentences of the original text to be chosen for the summary.\n",
        "\n",
        "Let's add more input elements to the interface:\n",
        "\n",
        "* A checkbox widget allowing the user to capitalize the output\n",
        "* A text box to set the `n_sent`"
      ],
      "metadata": {
        "id": "qrkJephp0VLf"
      }
    },
    {
      "cell_type": "code",
      "source": [
        "def sum(text, make_caps, number_of_sentences):\n",
        "    summary = sumy_summarize(text, n_sent=number_of_sentences)\n",
        "    return summary.upper() if make_caps else summary\n",
        "\n",
        "sum_demo = gr.Interface(\n",
        "    fn=sum,\n",
        "    inputs=[\"text\", \"checkbox\", \"number\"],\n",
        "    outputs=\"text\"\n",
        ")\n",
        "\n",
        "sum_demo.launch()"
      ],
      "metadata": {
        "id": "4PR6dAf307bQ",
        "colab": {
          "base_uri": "https://localhost:8080/",
          "height": 628
        },
        "outputId": "b899f525-d60c-41d4-a6e7-7256c557af1b"
      },
      "execution_count": 20,
      "outputs": [
        {
          "output_type": "stream",
          "name": "stdout",
          "text": [
            "Setting queue=True in a Colab notebook requires sharing enabled. Setting `share=True` (you can turn this off by setting `share=False` in `launch()` explicitly).\n",
            "\n",
            "Colab notebook detected. To show errors in colab notebook, set debug=True in launch()\n",
            "Running on public URL: https://b26af80e1d037a1d6a.gradio.live\n",
            "\n",
            "This share link expires in 72 hours. For free permanent hosting and GPU upgrades, run `gradio deploy` from Terminal to deploy to Spaces (https://huggingface.co/spaces)\n"
          ]
        },
        {
          "output_type": "display_data",
          "data": {
            "text/plain": [
              "<IPython.core.display.HTML object>"
            ],
            "text/html": [
              "<div><iframe src=\"https://b26af80e1d037a1d6a.gradio.live\" width=\"100%\" height=\"500\" allow=\"autoplay; camera; microphone; clipboard-read; clipboard-write;\" frameborder=\"0\" allowfullscreen></iframe></div>"
            ]
          },
          "metadata": {}
        },
        {
          "output_type": "execute_result",
          "data": {
            "text/plain": []
          },
          "metadata": {},
          "execution_count": 20
        }
      ]
    },
    {
      "cell_type": "markdown",
      "source": [
        "The `Interface` is highly customizable. For example, you can give each element different labels, have placeholder text, change colors, etc. Check the [Gradio documentation](https://gradio.app/docs/) for details."
      ],
      "metadata": {
        "id": "f0MFhGObX37G"
      }
    },
    {
      "cell_type": "markdown",
      "source": [
        "## Hugging Face\n",
        "\n",
        "\n",
        "🤗 [Transformers](https://huggingface.co/docs/transformers/index) is a state-of-the-art Machine Learning for PyTorch, TensorFlow, and JAX, and provides APIs and tools to easily download and train state-of-the-art pretrained models.\n",
        "\n",
        "Begin by installing the Hugging Face `transformers` library:"
      ],
      "metadata": {
        "id": "alS1iTCWTMWx"
      }
    },
    {
      "cell_type": "code",
      "source": [
        "!pip install transformers"
      ],
      "metadata": {
        "id": "8hXjUCHttVIz",
        "colab": {
          "base_uri": "https://localhost:8080/"
        },
        "outputId": "9b15e67d-8331-4161-dcd4-c03ca7844e0f"
      },
      "execution_count": 21,
      "outputs": [
        {
          "output_type": "stream",
          "name": "stdout",
          "text": [
            "Requirement already satisfied: transformers in /usr/local/lib/python3.10/dist-packages (4.34.0)\n",
            "Requirement already satisfied: filelock in /usr/local/lib/python3.10/dist-packages (from transformers) (3.12.4)\n",
            "Requirement already satisfied: huggingface-hub<1.0,>=0.16.4 in /usr/local/lib/python3.10/dist-packages (from transformers) (0.17.3)\n",
            "Requirement already satisfied: numpy>=1.17 in /usr/local/lib/python3.10/dist-packages (from transformers) (1.23.5)\n",
            "Requirement already satisfied: packaging>=20.0 in /usr/local/lib/python3.10/dist-packages (from transformers) (23.2)\n",
            "Requirement already satisfied: pyyaml>=5.1 in /usr/local/lib/python3.10/dist-packages (from transformers) (6.0.1)\n",
            "Requirement already satisfied: regex!=2019.12.17 in /usr/local/lib/python3.10/dist-packages (from transformers) (2023.6.3)\n",
            "Requirement already satisfied: requests in /usr/local/lib/python3.10/dist-packages (from transformers) (2.31.0)\n",
            "Requirement already satisfied: tokenizers<0.15,>=0.14 in /usr/local/lib/python3.10/dist-packages (from transformers) (0.14.1)\n",
            "Requirement already satisfied: safetensors>=0.3.1 in /usr/local/lib/python3.10/dist-packages (from transformers) (0.4.0)\n",
            "Requirement already satisfied: tqdm>=4.27 in /usr/local/lib/python3.10/dist-packages (from transformers) (4.66.1)\n",
            "Requirement already satisfied: fsspec in /usr/local/lib/python3.10/dist-packages (from huggingface-hub<1.0,>=0.16.4->transformers) (2023.6.0)\n",
            "Requirement already satisfied: typing-extensions>=3.7.4.3 in /usr/local/lib/python3.10/dist-packages (from huggingface-hub<1.0,>=0.16.4->transformers) (4.5.0)\n",
            "Requirement already satisfied: charset-normalizer<4,>=2 in /usr/local/lib/python3.10/dist-packages (from requests->transformers) (3.3.0)\n",
            "Requirement already satisfied: idna<4,>=2.5 in /usr/local/lib/python3.10/dist-packages (from requests->transformers) (3.4)\n",
            "Requirement already satisfied: urllib3<3,>=1.21.1 in /usr/local/lib/python3.10/dist-packages (from requests->transformers) (2.0.6)\n",
            "Requirement already satisfied: certifi>=2017.4.17 in /usr/local/lib/python3.10/dist-packages (from requests->transformers) (2023.7.22)\n"
          ]
        }
      ]
    },
    {
      "cell_type": "markdown",
      "source": [
        "Import the necessary modules for the tasks up ahead:"
      ],
      "metadata": {
        "id": "pRWI1tV_qC1J"
      }
    },
    {
      "cell_type": "code",
      "source": [
        "from transformers import AutoModelForCausalLM, AutoModelForSeq2SeqLM, AutoTokenizer, pipeline, Conversation"
      ],
      "metadata": {
        "id": "q-3q00aZA10p"
      },
      "execution_count": 22,
      "outputs": []
    },
    {
      "cell_type": "markdown",
      "source": [
        "Hugging Face pipelines make it simple to use any model for inference on any language, computer vision, speech, and multimodal tasks (see [docs](https://huggingface.co/docs/transformers/pipeline_tutorial)). The `pipeline()` automatically loads a default model and a preprocessing class capable of inference for your task.\n",
        "\n",
        "The following is an example of using a Hugging Face pipeline to do automatic abstractive summarization:\n",
        "\n",
        "* First create a pipeline object, here called `summarizer`\n",
        "* The `pipeline()` constructor takes two arguments:\n",
        "  * The name of the task (see [docs for existing pipelines](https://huggingface.co/docs/transformers/main_classes/pipelines)) - In our case, the task is 'summarization'\n",
        "  * The model - We can use [facebook/bart-large-xsum](https://huggingface.co/facebook/bart-large-xsum). This can be changed to any number of models available for this task on Hugging Face.\n",
        "\n",
        "* Next we define a string variable containing the text we want to summarize. Here it's called `text_to_summarize`.\n",
        "* Then call the `summarizer` pipeline, pass the string, and optionally set the max and min length, and method for generation\n",
        "* Finally, print the output"
      ],
      "metadata": {
        "id": "fF918IkJu-Zq"
      }
    },
    {
      "cell_type": "code",
      "source": [
        "summarizer = pipeline(\"summarization\", model=\"facebook/bart-large-xsum\")"
      ],
      "metadata": {
        "id": "VWCSlBv73xdV"
      },
      "execution_count": 23,
      "outputs": []
    },
    {
      "cell_type": "code",
      "source": [
        "text_to_summarize = \"\"\" New York (CNN)When Liana Barrientos was 23 years old, she got married in Westchester County, New York.\n",
        "A year later, she got married again in Westchester County, but to a different man and without divorcing her first husband.\n",
        "Only 18 days after that marriage, she got hitched yet again. Then, Barrientos declared \"I do\" five more times, sometimes only within two weeks of each other.\n",
        "In 2010, she married once more, this time in the Bronx. In an application for a marriage license, she stated it was her \"first and only\" marriage.\n",
        "Barrientos, now 39, is facing two criminal counts of \"offering a false instrument for filing in the first degree,\" referring to her false statements on the\n",
        "2010 marriage license application, according to court documents.\n",
        "Prosecutors said the marriages were part of an immigration scam.\n",
        "On Friday, she pleaded not guilty at State Supreme Court in the Bronx, according to her attorney, Christopher Wright, who declined to comment further.\n",
        "After leaving court, Barrientos was arrested and charged with theft of service and criminal trespass for allegedly sneaking into the New York subway through an emergency exit, said Detective\n",
        "Annette Markowski, a police spokeswoman. In total, Barrientos has been married 10 times, with nine of her marriages occurring between 1999 and 2002.\n",
        "All occurred either in Westchester County, Long Island, New Jersey or the Bronx. She is believed to still be married to four men, and at one time, she was married to eight men at once, prosecutors say.\n",
        "Prosecutors said the immigration scam involved some of her husbands, who filed for permanent residence status shortly after the marriages.\n",
        "Any divorces happened only after such filings were approved. It was unclear whether any of the men will be prosecuted.\n",
        "The case was referred to the Bronx District Attorney\\'s Office by Immigration and Customs Enforcement and the Department of Homeland Security\\'s\n",
        "Investigation Division. Seven of the men are from so-called \"red-flagged\" countries, including Egypt, Turkey, Georgia, Pakistan and Mali.\n",
        "Her eighth husband, Rashid Rajput, was deported in 2006 to his native Pakistan after an investigation by the Joint Terrorism Task Force.\n",
        "If convicted, Barrientos faces up to four years in prison.  Her next court appearance is scheduled for May 18.\n",
        "\"\"\""
      ],
      "metadata": {
        "id": "cKSankLlaTsO"
      },
      "execution_count": 24,
      "outputs": []
    },
    {
      "cell_type": "code",
      "source": [
        "summary = summarizer(text_to_summarize, max_length=130, min_length=30, do_sample=False)\n",
        "print(summary)"
      ],
      "metadata": {
        "id": "suj-aGanxeV0",
        "colab": {
          "base_uri": "https://localhost:8080/"
        },
        "outputId": "b641a969-c0f7-417c-c156-74cadd8f8aba"
      },
      "execution_count": 25,
      "outputs": [
        {
          "output_type": "stream",
          "name": "stdout",
          "text": [
            "[{'summary_text': 'A New York woman has pleaded not guilty to falsely claiming to be married 10 times, including to eight men from different countries, in what prosecutors say was an immigration scam.'}]\n"
          ]
        }
      ]
    },
    {
      "cell_type": "markdown",
      "source": [
        "Let's take things up a notch and create a non-goal-oriented chatbot using pipelines and Gradio.\n",
        "\n",
        "We can define our model and tokenizer explicitly to choose the model best suited for the task, instead of relying on the pipeline's default model. A good model for aimless chit-chat is the [Blenderbot](https://huggingface.co/facebook/blenderbot-400M-distill) model. Note that there are many other chat models you could choose for this task.\n",
        "\n",
        "Start by defining the tokenizer and model:"
      ],
      "metadata": {
        "id": "A-HWgZ51qHkI"
      }
    },
    {
      "cell_type": "code",
      "source": [
        "chat_tokenizer = AutoTokenizer.from_pretrained(\"facebook/blenderbot-400M-distill\")\n",
        "chat_model = AutoModelForSeq2SeqLM.from_pretrained(\"facebook/blenderbot-400M-distill\")"
      ],
      "metadata": {
        "id": "UvXhr12zp29P",
        "colab": {
          "base_uri": "https://localhost:8080/"
        },
        "outputId": "d2b4ff72-bae3-48eb-84f2-ab507a29ca12"
      },
      "execution_count": 26,
      "outputs": [
        {
          "output_type": "stream",
          "name": "stderr",
          "text": [
            "Special tokens have been added in the vocabulary, make sure the associated word embeddings are fine-tuned or trained.\n"
          ]
        }
      ]
    },
    {
      "cell_type": "markdown",
      "source": [
        "Next, we create a 'conversational' pipeline called `bot` using the model and tokenizer we defined above:"
      ],
      "metadata": {
        "id": "HjngaV67jOF-"
      }
    },
    {
      "cell_type": "code",
      "source": [
        "bot = pipeline(task=\"conversational\", model=chat_model, tokenizer=chat_tokenizer)"
      ],
      "metadata": {
        "id": "-ekGGlgXGdK5"
      },
      "execution_count": 27,
      "outputs": []
    },
    {
      "cell_type": "markdown",
      "source": [
        "In order to build a basic chatbot interface using a pretrained model, we take the following steps:\n",
        "\n",
        "* Initialize the `Conversation` object outside the function, in order to keep building the dialog history over time, so the model has the dialog context when it generates responses.\n",
        "* Define a `chat` function that takes text from user input and keeps a history of the dialog across turns. This function:\n",
        "  * Adds the user's current input to the `Conversation` by calling `add_user_input` on the `convo` object, passing the `input`.\n",
        "  * Passes the `convo` object to the `bot` to make the model generate a response.\n",
        "  * The `bot` object outputs the whole conversation by default, so we call `generated_responses` to get a simple list of the generated responses so far, and get the last item in the list (i.e., the most recent response).\n",
        "  * Then we update the `history`, which is a list of tuples: (user-input, bot-response)\n",
        "* Lastly, we define a Gradio `Interface` that:\n",
        "  * Calls the `chat` function\n",
        "  * Takes text as input\n",
        "  * Creates widgets from a predefined Gradio layout for a 'chatbot'\n",
        "  * Retains a 'state' of the dialog by retaining a list of the chat `history`.\n"
      ],
      "metadata": {
        "id": "JccTsNDJj55M"
      }
    },
    {
      "cell_type": "code",
      "source": [
        "convo = Conversation()\n",
        "def chat(input, history=[]):\n",
        "    convo.add_user_input(input)\n",
        "    output = bot([convo]).generated_responses[-1]\n",
        "    history.append(input)\n",
        "    history.append(output)\n",
        "    response = [(history[i], history[i+1]) for i in range(0, len(history)-1, 2)]\n",
        "    return response, history\n",
        "\n",
        "interface = gr.Interface(\n",
        "    fn=chat,\n",
        "    theme=\"default\",\n",
        "    css=\".footer {display:none !important}\",\n",
        "    inputs=[\"text\", \"state\"],\n",
        "    outputs=[\"chatbot\", \"state\"],\n",
        ")\n",
        "\n",
        "if __name__ == '__main__':\n",
        "    interface.launch()"
      ],
      "metadata": {
        "id": "pHh36Vzgkpg-",
        "colab": {
          "base_uri": "https://localhost:8080/",
          "height": 628
        },
        "outputId": "3ce13986-e518-4adf-dfc0-894c9382a27d"
      },
      "execution_count": 28,
      "outputs": [
        {
          "output_type": "stream",
          "name": "stdout",
          "text": [
            "Setting queue=True in a Colab notebook requires sharing enabled. Setting `share=True` (you can turn this off by setting `share=False` in `launch()` explicitly).\n",
            "\n",
            "Colab notebook detected. To show errors in colab notebook, set debug=True in launch()\n",
            "Running on public URL: https://c3a30ef23ad0844d25.gradio.live\n",
            "\n",
            "This share link expires in 72 hours. For free permanent hosting and GPU upgrades, run `gradio deploy` from Terminal to deploy to Spaces (https://huggingface.co/spaces)\n"
          ]
        },
        {
          "output_type": "display_data",
          "data": {
            "text/plain": [
              "<IPython.core.display.HTML object>"
            ],
            "text/html": [
              "<div><iframe src=\"https://c3a30ef23ad0844d25.gradio.live\" width=\"100%\" height=\"500\" allow=\"autoplay; camera; microphone; clipboard-read; clipboard-write;\" frameborder=\"0\" allowfullscreen></iframe></div>"
            ]
          },
          "metadata": {}
        }
      ]
    },
    {
      "cell_type": "markdown",
      "source": [
        "You now have a variety of powerful tools at your disposal to rapidly create interesting and useful NLP applications!"
      ],
      "metadata": {
        "id": "FIb5zlT6zB7h"
      }
    },
    {
      "cell_type": "markdown",
      "source": [
        "# Assignment\n",
        "Complete the following questions and hand in your solution in Canvas before 8:30 Monday morning, October 16th. Remember to save your file before uploading it."
      ],
      "metadata": {
        "id": "76KqmaBLWCh6"
      }
    },
    {
      "cell_type": "markdown",
      "source": [
        "## Part 1\n",
        "Compare the outputs of the three summarization methods covered in this notebook.\n",
        "\n",
        "Use the same piece of text for each method to answer these questions:\n",
        "\n",
        "1. Which method performs the best, in your opinion?\n",
        "2. What are the pros and cons of each method?\n",
        "3. What kind of summarization is each method doing?"
      ],
      "metadata": {
        "id": "vZA9xn7BFl27"
      }
    },
    {
      "cell_type": "code",
      "source": [
        "# Your solution here\n",
        "\n",
        "\n"
      ],
      "metadata": {
        "id": "m2GikbshFpsJ"
      },
      "execution_count": 29,
      "outputs": []
    },
    {
      "cell_type": "markdown",
      "source": [
        "## Part 2\n",
        "Create a sentiment classifier using Gradio and Huggingface.\n",
        "\n",
        "* Augment the simple version of the Gradio interface.\n",
        "* Add a Huggingface 'text-classification' pipleline, using the 'cardiffnlp/twitter-roberta-base-sentiment' model.\n",
        "\n",
        "This model outputs a list that contains one dictionary object. In this dictionary, the predicted class is the value of the key 'label'. The model outputs one of three sentiment classes:\n",
        "\n",
        "* `LABEL_0` for negative\n",
        "* `LABEL_1` for neutral\n",
        "* `LABEL_2` for positive\n",
        "\n",
        "Your app should take some text as input and output **one** of these three words:\n",
        "\n",
        "* Positive\n",
        "* Neutral\n",
        "* Negative"
      ],
      "metadata": {
        "id": "WDxnK0GhgUto"
      }
    },
    {
      "cell_type": "code",
      "source": [
        "# Alter this codeblock and/or create as many blocks as necessary to accomplish the task for this part\n",
        "\n",
        "def analyze(text):\n",
        "    return \"Echo: \" + text\n",
        "\n",
        "sentiment_analyzer = gr.Interface(\n",
        "    fn=analyze,\n",
        "    inputs=\"text\",\n",
        "    outputs=\"text\"\n",
        ")\n",
        "\n",
        "sentiment_analyzer.launch()"
      ],
      "metadata": {
        "id": "9OtdSpNct2eo",
        "colab": {
          "base_uri": "https://localhost:8080/",
          "height": 628
        },
        "outputId": "71037f82-9110-4ccc-9ac9-8ed720170329"
      },
      "execution_count": 30,
      "outputs": [
        {
          "output_type": "stream",
          "name": "stdout",
          "text": [
            "Setting queue=True in a Colab notebook requires sharing enabled. Setting `share=True` (you can turn this off by setting `share=False` in `launch()` explicitly).\n",
            "\n",
            "Colab notebook detected. To show errors in colab notebook, set debug=True in launch()\n",
            "Running on public URL: https://f6f62dddcd5aa27471.gradio.live\n",
            "\n",
            "This share link expires in 72 hours. For free permanent hosting and GPU upgrades, run `gradio deploy` from Terminal to deploy to Spaces (https://huggingface.co/spaces)\n"
          ]
        },
        {
          "output_type": "display_data",
          "data": {
            "text/plain": [
              "<IPython.core.display.HTML object>"
            ],
            "text/html": [
              "<div><iframe src=\"https://f6f62dddcd5aa27471.gradio.live\" width=\"100%\" height=\"500\" allow=\"autoplay; camera; microphone; clipboard-read; clipboard-write;\" frameborder=\"0\" allowfullscreen></iframe></div>"
            ]
          },
          "metadata": {}
        },
        {
          "output_type": "execute_result",
          "data": {
            "text/plain": []
          },
          "metadata": {},
          "execution_count": 30
        }
      ]
    },
    {
      "cell_type": "markdown",
      "source": [
        "## Part 3\n",
        "\n",
        "Create a chatbot that can do these three things:\n",
        "\n",
        "*   Summarize text\n",
        "*   Analyze sentiment\n",
        "*   Mindless chit-chat\n",
        "\n",
        "Augment the chatbot code below to accomplish the following:\n",
        "\n",
        "1. When the user ticks a checkbox that says 'do_summary':\n",
        "  * The user's long text input should be summarized by the bot using the pipeline defined earlier and responds with the summary\n",
        "  * This process may bypass the default chit-chat functionality\n",
        "2. When the user ticks a checkbox that says 'do_sentiment':\n",
        "  * The user's text input may be analyzed by the bot for sentiment using the method created in Part 2 and responds accordingly\n",
        "  * This process may bypass the default chit-chat functionality\n",
        "3. Process any other input using the default chat functionality"
      ],
      "metadata": {
        "id": "WBke_7MfuceR"
      }
    },
    {
      "cell_type": "code",
      "source": [
        "# Alter this codeblock and/or create as many blocks as necessary to accomplish the task for this part\n",
        "\n",
        "bot = pipeline(task=\"conversational\", model=chat_model, tokenizer=chat_tokenizer)\n",
        "\n",
        "convo = Conversation()\n",
        "def chat(input, history=[]):\n",
        "    convo.add_user_input(input)\n",
        "    output = bot([convo]).generated_responses[-1]\n",
        "    history.append(input)\n",
        "    history.append(output)\n",
        "    response = [(history[i], history[i+1]) for i in range(0, len(history)-1, 2)]\n",
        "    return response, history\n",
        "\n",
        "interface = gr.Interface(\n",
        "    fn=chat,\n",
        "    theme=\"default\",\n",
        "    css=\".footer {display:none !important}\",\n",
        "    inputs=[\"text\", \"state\"],\n",
        "    outputs=[\"chatbot\", \"state\"],\n",
        ")\n",
        "\n",
        "if __name__ == '__main__':\n",
        "    interface.launch()"
      ],
      "metadata": {
        "id": "FE54O0p6f8YI",
        "colab": {
          "base_uri": "https://localhost:8080/",
          "height": 628
        },
        "outputId": "fa4e9681-8c72-492d-cd43-f6c2fecabe47"
      },
      "execution_count": 31,
      "outputs": [
        {
          "output_type": "stream",
          "name": "stdout",
          "text": [
            "Setting queue=True in a Colab notebook requires sharing enabled. Setting `share=True` (you can turn this off by setting `share=False` in `launch()` explicitly).\n",
            "\n",
            "Colab notebook detected. To show errors in colab notebook, set debug=True in launch()\n",
            "Running on public URL: https://ecfa64c1f665fb9d11.gradio.live\n",
            "\n",
            "This share link expires in 72 hours. For free permanent hosting and GPU upgrades, run `gradio deploy` from Terminal to deploy to Spaces (https://huggingface.co/spaces)\n"
          ]
        },
        {
          "output_type": "display_data",
          "data": {
            "text/plain": [
              "<IPython.core.display.HTML object>"
            ],
            "text/html": [
              "<div><iframe src=\"https://ecfa64c1f665fb9d11.gradio.live\" width=\"100%\" height=\"500\" allow=\"autoplay; camera; microphone; clipboard-read; clipboard-write;\" frameborder=\"0\" allowfullscreen></iframe></div>"
            ]
          },
          "metadata": {}
        }
      ]
    }
  ]
}
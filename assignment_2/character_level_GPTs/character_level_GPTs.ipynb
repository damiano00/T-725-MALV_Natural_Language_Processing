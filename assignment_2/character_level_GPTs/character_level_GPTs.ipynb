{
 "cells": [
  {
   "cell_type": "code",
   "execution_count": 0,
   "outputs": [],
   "source": [
    "import torch\n",
    "import numpy\n",
    "import transformers\n",
    "import datasets\n",
    "import tiktoken\n",
    "import wandb\n",
    "import tqdm"
   ],
   "metadata": {
    "collapsed": false
   },
   "id": "f7659ca8a6d89f1f"
  },
  {
   "cell_type": "code",
   "execution_count": 3,
   "outputs": [
    {
     "name": "stdout",
     "output_type": "stream",
     "text": [
      "Torch version: 2.1.0+cu121\n",
      "Is CUDA enabled? True\n"
     ]
    }
   ],
   "source": [
    "\n",
    "print(\"Torch version:\",torch.__version__)\n",
    "print(\"Is CUDA enabled?\",torch.cuda.is_available())\n",
    "\n",
    "# Check if CUDA (GPU support) is available\n",
    "if torch.cuda.is_available():\n",
    "    # Switch to GPU (if CUDA is available)\n",
    "    device = torch.device(\"cuda\")\n",
    "else:\n",
    "    # Use CPU if CUDA is not available\n",
    "    device = torch.device(\"cpu\")\n",
    "\n",
    "# Now, you can use PyTorch on the selected device\n",
    "tensor_on_device = torch.randn(3, 3).to(device)"
   ],
   "metadata": {
    "collapsed": false,
    "ExecuteTime": {
     "end_time": "2023-10-07T16:35:51.229813400Z",
     "start_time": "2023-10-07T16:35:46.832477400Z"
    }
   },
   "id": "49a8814a73d5f5ed"
  },
  {
   "cell_type": "code",
   "execution_count": null,
   "outputs": [],
   "source": [],
   "metadata": {
    "collapsed": false
   },
   "id": "fe8371528c96664"
  }
 ],
 "metadata": {
  "kernelspec": {
   "display_name": "Python 3",
   "language": "python",
   "name": "python3"
  },
  "language_info": {
   "codemirror_mode": {
    "name": "ipython",
    "version": 2
   },
   "file_extension": ".py",
   "mimetype": "text/x-python",
   "name": "python",
   "nbconvert_exporter": "python",
   "pygments_lexer": "ipython2",
   "version": "2.7.6"
  }
 },
 "nbformat": 4,
 "nbformat_minor": 5
}

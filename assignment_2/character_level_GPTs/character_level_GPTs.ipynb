{
 "cells": [
  {
   "cell_type": "code",
   "execution_count": 2,
   "outputs": [
    {
     "name": "stdout",
     "output_type": "stream",
     "text": [
      "Torch version: 2.1.0+cu121\n",
      "Is CUDA enabled? True\n"
     ]
    }
   ],
   "source": [
    "'''\n",
    "author: Damiano Pasquini\n",
    "date: 10/13/2023\n",
    "'''\n",
    "\n",
    "import torch\n",
    "import subprocess\n",
    "import json\n",
    "import pandas as pd\n",
    "import numpy\n",
    "import transformers\n",
    "import datasets\n",
    "import tiktoken\n",
    "import wandb\n",
    "import tqdm\n",
    "\n",
    "# Check if CUDA (GPU support) is available\n",
    "device = torch.device(\"cuda\" if torch.cuda.is_available() else \"cpu\")\n",
    "tensor_on_device = torch.randn(3, 3).to(device)\n",
    "print(\"Torch version:\", torch.__version__)\n",
    "print(\"Is CUDA enabled?\", torch.cuda.is_available())\n",
    "\n",
    "corpus = \"nanoGPT/data/utterances.jsonl\"\n",
    "corpus_preprocessed = \"nanoGPT/data/shakespeare_char/utterances_preprocessed.txt\"\n",
    "# cli commands\n",
    "prepare = \"python nanoGPT/data/shakespeare_char/prepare.py\"\n",
    "sample = \"python nanoGPT/sample.py --out_dir=out-shakespeare-char\""
   ],
   "metadata": {
    "collapsed": false,
    "ExecuteTime": {
     "end_time": "2023-10-12T16:23:59.899050500Z",
     "start_time": "2023-10-12T16:23:59.891495300Z"
    }
   },
   "id": "f7659ca8a6d89f1f"
  },
  {
   "cell_type": "code",
   "execution_count": 99,
   "outputs": [],
   "source": [
    "# from convokit import Corpus, download\n",
    "# corpus = Corpus(filename=download(\"supreme-corpus\")) "
   ],
   "metadata": {
    "collapsed": false,
    "ExecuteTime": {
     "end_time": "2023-10-11T01:20:33.489731200Z",
     "start_time": "2023-10-11T01:20:33.481718200Z"
    }
   },
   "id": "bf998d4d0cf47abb"
  },
  {
   "cell_type": "code",
   "execution_count": 12,
   "outputs": [
    {
     "name": "stdout",
     "output_type": "stream",
     "text": [
      "111422765\n"
     ]
    }
   ],
   "source": [
    "def count_words(input=corpus):\n",
    "    words = subprocess.check_output(f\"wsl wc -w {input}\", shell=True)\n",
    "    return int(words.split()[0])\n",
    "\n",
    "# print(count_words(corpus_preprocessed))\n",
    "print(count_words(corpus))"
   ],
   "metadata": {
    "collapsed": false,
    "ExecuteTime": {
     "end_time": "2023-10-11T16:47:17.682513Z",
     "start_time": "2023-10-11T16:47:01.170935700Z"
    }
   },
   "id": "b61e662a13e743d5"
  },
  {
   "cell_type": "code",
   "execution_count": 2,
   "outputs": [],
   "source": [
    "# run a shell command and print the output\n",
    "def run_shell_cmd(cmd):\n",
    "    print(cmd)\n",
    "    out = subprocess.check_output(cmd, shell=True)\n",
    "    print(out)"
   ],
   "metadata": {
    "collapsed": false,
    "ExecuteTime": {
     "end_time": "2023-10-11T10:53:20.460242800Z",
     "start_time": "2023-10-11T10:53:20.455537700Z"
    }
   },
   "id": "57a8d7a7c4315dc6"
  },
  {
   "cell_type": "code",
   "execution_count": 3,
   "outputs": [
    {
     "data": {
      "text/plain": "'nanoGPT/data/shakespeare_char/utterances_preprocessed.txt'"
     },
     "execution_count": 3,
     "metadata": {},
     "output_type": "execute_result"
    }
   ],
   "source": [
    "def preprocess_corpus(input=corpus, output=corpus_preprocessed):\n",
    "    # transform the jsonl file into a txt file, with the format \"speaker: text\". When the output file contains more than 1000000 words, stop. Divide the jsonl file into lines basing on the presence of \"id\":\n",
    "    with open(input, \"r\") as f:\n",
    "        text = f.read()\n",
    "    word_counter = 0\n",
    "    with open(output, \"w\", encoding='utf-8') as f:\n",
    "        for line in text.replace(\"\\\\n\", \". \").split(\"\\n\"):\n",
    "            if word_counter > 1000000:\n",
    "                break\n",
    "            if line:\n",
    "                line = json.loads(line)\n",
    "                word_counter += len(line[\"text\"].split())+len(line[\"speaker\"].split())\n",
    "                f.write(f\"{line['speaker']}: {line['text']}\\n\")\n",
    "    return output\n",
    "\n",
    "preprocess_corpus(corpus)"
   ],
   "metadata": {
    "collapsed": false,
    "ExecuteTime": {
     "end_time": "2023-10-11T10:53:28.159886900Z",
     "start_time": "2023-10-11T10:53:20.463247700Z"
    }
   },
   "id": "125bf88cc2e79179"
  },
  {
   "cell_type": "code",
   "execution_count": 4,
   "outputs": [],
   "source": [
    "# default training\n",
    "def train(eval_iters=20, log_interval=1, block_size=64, batch_size=12, n_layer=4, n_head=4, n_embd=128, max_iters=2000, lr_decay_iters=2000, dropout=0.0):\n",
    "    run_shell_cmd(f\"python nanoGPT/train.py nanoGPT/config/train_shakespeare_char.py --device=cpu --compile=False --eval_iters={eval_iters} --log_interval={log_interval} --block_size={block_size} --batch_size={batch_size} --n_layer={n_layer} --n_head={n_head} --n_embd={n_embd} --max_iters={max_iters} --lr_decay_iters={lr_decay_iters} --dropout={dropout}\")"
   ],
   "metadata": {
    "collapsed": false,
    "ExecuteTime": {
     "end_time": "2023-10-11T10:53:28.197497300Z",
     "start_time": "2023-10-11T10:53:28.189485800Z"
    }
   },
   "id": "7803bbbd3b37f629"
  },
  {
   "cell_type": "markdown",
   "source": [
    "# Prepare the data, train and sample from the model with the default parameters"
   ],
   "metadata": {
    "collapsed": false
   },
   "id": "9ad0a2cfc9f62b29"
  },
  {
   "cell_type": "code",
   "execution_count": 111,
   "outputs": [
    {
     "name": "stdout",
     "output_type": "stream",
     "text": [
      "Running prepare...\n",
      "python nanoGPT/data/shakespeare_char/prepare.py\n",
      "b'length of dataset in characters: 5,830,837\\r\\nall the unique characters: \\r\\n \"$%&\\'()+,-./0123456789:;<>?ABCDEFGHIJKLMNOPQRSTUVWXYZ[]_abcdefghijklmnopqrstuvwxyz\\xe7\\xe9\\xef\\x96\\x91\\x93\\x94\\r\\nvocab size: 91\\r\\ntrain has 5,247,753 tokens\\r\\nval has 583,084 tokens\\r\\n'\n",
      "Training...\n",
      "python nanoGPT/train.py nanoGPT/config/train_shakespeare_char.py --device=cpu --compile=False --eval_iters=20 --log_interval=1 --block_size=64 --batch_size=12 --n_layer=4 --n_head=4 --n_embd=128 --max_iters=2000 --lr_decay_iters=2000 --dropout=0.0\n"
     ]
    },
    {
     "ename": "CalledProcessError",
     "evalue": "Command 'python nanoGPT/train.py nanoGPT/config/train_shakespeare_char.py --device=cpu --compile=False --eval_iters=20 --log_interval=1 --block_size=64 --batch_size=12 --n_layer=4 --n_head=4 --n_embd=128 --max_iters=2000 --lr_decay_iters=2000 --dropout=0.0' returned non-zero exit status 1.",
     "output_type": "error",
     "traceback": [
      "\u001B[1;31m---------------------------------------------------------------------------\u001B[0m",
      "\u001B[1;31mCalledProcessError\u001B[0m                        Traceback (most recent call last)",
      "Cell \u001B[1;32mIn[111], line 5\u001B[0m\n\u001B[0;32m      3\u001B[0m run_shell_cmd(prepare)\n\u001B[0;32m      4\u001B[0m \u001B[38;5;28mprint\u001B[39m(\u001B[38;5;124m\"\u001B[39m\u001B[38;5;124mTraining...\u001B[39m\u001B[38;5;124m\"\u001B[39m)\n\u001B[1;32m----> 5\u001B[0m \u001B[43mtrain\u001B[49m\u001B[43m(\u001B[49m\u001B[43m)\u001B[49m\n\u001B[0;32m      6\u001B[0m \u001B[38;5;28mprint\u001B[39m(\u001B[38;5;124m\"\u001B[39m\u001B[38;5;124mSampling...\u001B[39m\u001B[38;5;124m\"\u001B[39m)\n\u001B[0;32m      7\u001B[0m run_shell_cmd(sample)\n",
      "Cell \u001B[1;32mIn[94], line 3\u001B[0m, in \u001B[0;36mtrain\u001B[1;34m(eval_iters, log_interval, block_size, batch_size, n_layer, n_head, n_embd, max_iters, lr_decay_iters, dropout)\u001B[0m\n\u001B[0;32m      2\u001B[0m \u001B[38;5;28;01mdef\u001B[39;00m \u001B[38;5;21mtrain\u001B[39m(eval_iters\u001B[38;5;241m=\u001B[39m\u001B[38;5;241m20\u001B[39m, log_interval\u001B[38;5;241m=\u001B[39m\u001B[38;5;241m1\u001B[39m, block_size\u001B[38;5;241m=\u001B[39m\u001B[38;5;241m64\u001B[39m, batch_size\u001B[38;5;241m=\u001B[39m\u001B[38;5;241m12\u001B[39m, n_layer\u001B[38;5;241m=\u001B[39m\u001B[38;5;241m4\u001B[39m, n_head\u001B[38;5;241m=\u001B[39m\u001B[38;5;241m4\u001B[39m, n_embd\u001B[38;5;241m=\u001B[39m\u001B[38;5;241m128\u001B[39m, max_iters\u001B[38;5;241m=\u001B[39m\u001B[38;5;241m2000\u001B[39m, lr_decay_iters\u001B[38;5;241m=\u001B[39m\u001B[38;5;241m2000\u001B[39m, dropout\u001B[38;5;241m=\u001B[39m\u001B[38;5;241m0.0\u001B[39m):\n\u001B[1;32m----> 3\u001B[0m     \u001B[43mrun_shell_cmd\u001B[49m\u001B[43m(\u001B[49m\u001B[38;5;124;43mf\u001B[39;49m\u001B[38;5;124;43m\"\u001B[39;49m\u001B[38;5;124;43mpython nanoGPT/train.py nanoGPT/config/train_shakespeare_char.py --device=cpu --compile=False --eval_iters=\u001B[39;49m\u001B[38;5;132;43;01m{\u001B[39;49;00m\u001B[43meval_iters\u001B[49m\u001B[38;5;132;43;01m}\u001B[39;49;00m\u001B[38;5;124;43m --log_interval=\u001B[39;49m\u001B[38;5;132;43;01m{\u001B[39;49;00m\u001B[43mlog_interval\u001B[49m\u001B[38;5;132;43;01m}\u001B[39;49;00m\u001B[38;5;124;43m --block_size=\u001B[39;49m\u001B[38;5;132;43;01m{\u001B[39;49;00m\u001B[43mblock_size\u001B[49m\u001B[38;5;132;43;01m}\u001B[39;49;00m\u001B[38;5;124;43m --batch_size=\u001B[39;49m\u001B[38;5;132;43;01m{\u001B[39;49;00m\u001B[43mbatch_size\u001B[49m\u001B[38;5;132;43;01m}\u001B[39;49;00m\u001B[38;5;124;43m --n_layer=\u001B[39;49m\u001B[38;5;132;43;01m{\u001B[39;49;00m\u001B[43mn_layer\u001B[49m\u001B[38;5;132;43;01m}\u001B[39;49;00m\u001B[38;5;124;43m --n_head=\u001B[39;49m\u001B[38;5;132;43;01m{\u001B[39;49;00m\u001B[43mn_head\u001B[49m\u001B[38;5;132;43;01m}\u001B[39;49;00m\u001B[38;5;124;43m --n_embd=\u001B[39;49m\u001B[38;5;132;43;01m{\u001B[39;49;00m\u001B[43mn_embd\u001B[49m\u001B[38;5;132;43;01m}\u001B[39;49;00m\u001B[38;5;124;43m --max_iters=\u001B[39;49m\u001B[38;5;132;43;01m{\u001B[39;49;00m\u001B[43mmax_iters\u001B[49m\u001B[38;5;132;43;01m}\u001B[39;49;00m\u001B[38;5;124;43m --lr_decay_iters=\u001B[39;49m\u001B[38;5;132;43;01m{\u001B[39;49;00m\u001B[43mlr_decay_iters\u001B[49m\u001B[38;5;132;43;01m}\u001B[39;49;00m\u001B[38;5;124;43m --dropout=\u001B[39;49m\u001B[38;5;132;43;01m{\u001B[39;49;00m\u001B[43mdropout\u001B[49m\u001B[38;5;132;43;01m}\u001B[39;49;00m\u001B[38;5;124;43m\"\u001B[39;49m\u001B[43m)\u001B[49m\n",
      "Cell \u001B[1;32mIn[110], line 4\u001B[0m, in \u001B[0;36mrun_shell_cmd\u001B[1;34m(cmd)\u001B[0m\n\u001B[0;32m      2\u001B[0m \u001B[38;5;28;01mdef\u001B[39;00m \u001B[38;5;21mrun_shell_cmd\u001B[39m(cmd):\n\u001B[0;32m      3\u001B[0m     \u001B[38;5;28mprint\u001B[39m(cmd)\n\u001B[1;32m----> 4\u001B[0m     out \u001B[38;5;241m=\u001B[39m \u001B[43msubprocess\u001B[49m\u001B[38;5;241;43m.\u001B[39;49m\u001B[43mcheck_output\u001B[49m\u001B[43m(\u001B[49m\u001B[43mcmd\u001B[49m\u001B[43m,\u001B[49m\u001B[43m \u001B[49m\u001B[43mshell\u001B[49m\u001B[38;5;241;43m=\u001B[39;49m\u001B[38;5;28;43;01mTrue\u001B[39;49;00m\u001B[43m)\u001B[49m\n\u001B[0;32m      5\u001B[0m     \u001B[38;5;28mprint\u001B[39m(out)\n",
      "File \u001B[1;32m~\\AppData\\Local\\Programs\\Python\\Python311\\Lib\\subprocess.py:466\u001B[0m, in \u001B[0;36mcheck_output\u001B[1;34m(timeout, *popenargs, **kwargs)\u001B[0m\n\u001B[0;32m    463\u001B[0m         empty \u001B[38;5;241m=\u001B[39m \u001B[38;5;124mb\u001B[39m\u001B[38;5;124m'\u001B[39m\u001B[38;5;124m'\u001B[39m\n\u001B[0;32m    464\u001B[0m     kwargs[\u001B[38;5;124m'\u001B[39m\u001B[38;5;124minput\u001B[39m\u001B[38;5;124m'\u001B[39m] \u001B[38;5;241m=\u001B[39m empty\n\u001B[1;32m--> 466\u001B[0m \u001B[38;5;28;01mreturn\u001B[39;00m \u001B[43mrun\u001B[49m\u001B[43m(\u001B[49m\u001B[38;5;241;43m*\u001B[39;49m\u001B[43mpopenargs\u001B[49m\u001B[43m,\u001B[49m\u001B[43m \u001B[49m\u001B[43mstdout\u001B[49m\u001B[38;5;241;43m=\u001B[39;49m\u001B[43mPIPE\u001B[49m\u001B[43m,\u001B[49m\u001B[43m \u001B[49m\u001B[43mtimeout\u001B[49m\u001B[38;5;241;43m=\u001B[39;49m\u001B[43mtimeout\u001B[49m\u001B[43m,\u001B[49m\u001B[43m \u001B[49m\u001B[43mcheck\u001B[49m\u001B[38;5;241;43m=\u001B[39;49m\u001B[38;5;28;43;01mTrue\u001B[39;49;00m\u001B[43m,\u001B[49m\n\u001B[0;32m    467\u001B[0m \u001B[43m           \u001B[49m\u001B[38;5;241;43m*\u001B[39;49m\u001B[38;5;241;43m*\u001B[39;49m\u001B[43mkwargs\u001B[49m\u001B[43m)\u001B[49m\u001B[38;5;241m.\u001B[39mstdout\n",
      "File \u001B[1;32m~\\AppData\\Local\\Programs\\Python\\Python311\\Lib\\subprocess.py:571\u001B[0m, in \u001B[0;36mrun\u001B[1;34m(input, capture_output, timeout, check, *popenargs, **kwargs)\u001B[0m\n\u001B[0;32m    569\u001B[0m     retcode \u001B[38;5;241m=\u001B[39m process\u001B[38;5;241m.\u001B[39mpoll()\n\u001B[0;32m    570\u001B[0m     \u001B[38;5;28;01mif\u001B[39;00m check \u001B[38;5;129;01mand\u001B[39;00m retcode:\n\u001B[1;32m--> 571\u001B[0m         \u001B[38;5;28;01mraise\u001B[39;00m CalledProcessError(retcode, process\u001B[38;5;241m.\u001B[39margs,\n\u001B[0;32m    572\u001B[0m                                  output\u001B[38;5;241m=\u001B[39mstdout, stderr\u001B[38;5;241m=\u001B[39mstderr)\n\u001B[0;32m    573\u001B[0m \u001B[38;5;28;01mreturn\u001B[39;00m CompletedProcess(process\u001B[38;5;241m.\u001B[39margs, retcode, stdout, stderr)\n",
      "\u001B[1;31mCalledProcessError\u001B[0m: Command 'python nanoGPT/train.py nanoGPT/config/train_shakespeare_char.py --device=cpu --compile=False --eval_iters=20 --log_interval=1 --block_size=64 --batch_size=12 --n_layer=4 --n_head=4 --n_embd=128 --max_iters=2000 --lr_decay_iters=2000 --dropout=0.0' returned non-zero exit status 1."
     ]
    }
   ],
   "source": [
    "# training with default hyperparameters\n",
    "print(\"Running prepare...\")\n",
    "run_shell_cmd(prepare)\n",
    "print(\"Training...\")\n",
    "train()\n",
    "print(\"Sampling...\")\n",
    "run_shell_cmd(sample)"
   ],
   "metadata": {
    "collapsed": false,
    "ExecuteTime": {
     "end_time": "2023-10-11T01:30:48.006226400Z",
     "start_time": "2023-10-11T01:30:44.902756700Z"
    }
   },
   "id": "4daa9cab6cebec7a"
  },
  {
   "cell_type": "markdown",
   "source": [
    "# Prepare the data, train and sample from the model with different configurations of hyperparameters"
   ],
   "metadata": {
    "collapsed": false
   },
   "id": "98040b64c242acaf"
  },
  {
   "cell_type": "code",
   "execution_count": null,
   "outputs": [],
   "source": [
    "# train 1\n",
    "train()\n",
    "print(\"Sampling...\")\n",
    "run_shell_cmd(sample)"
   ],
   "metadata": {
    "collapsed": false
   },
   "id": "2667292034c5f2e1"
  },
  {
   "cell_type": "code",
   "execution_count": null,
   "outputs": [],
   "source": [
    "# train 2\n",
    "train()\n",
    "print(\"Sampling...\")\n",
    "run_shell_cmd(sample)"
   ],
   "metadata": {
    "collapsed": false
   },
   "id": "da51b1079752dfcf"
  },
  {
   "cell_type": "code",
   "execution_count": null,
   "outputs": [],
   "source": [
    "# train 3\n",
    "train()\n",
    "print(\"Sampling...\")\n",
    "run_shell_cmd(sample)"
   ],
   "metadata": {
    "collapsed": false
   },
   "id": "114327239e954867"
  },
  {
   "cell_type": "code",
   "execution_count": 10,
   "outputs": [
    {
     "name": "stdout",
     "output_type": "stream",
     "text": [
      "273.1472565705957\n"
     ]
    }
   ],
   "source": [
    "def count_average_characters_per_line(input=corpus_preprocessed):\n",
    "    with open(input, \"r\", encoding='utf-8') as f:\n",
    "        text = f.read()\n",
    "    lines = text.split(\"\\n\")\n",
    "    characters = 0\n",
    "    for line in lines:\n",
    "        characters += len(line)\n",
    "    return characters/len(lines)\n",
    "\n",
    "print(count_average_characters_per_line())"
   ],
   "metadata": {
    "collapsed": false,
    "ExecuteTime": {
     "end_time": "2023-10-11T15:45:41.433683200Z",
     "start_time": "2023-10-11T15:45:41.361736500Z"
    }
   },
   "id": "331fa7c0de41701"
  }
 ],
 "metadata": {
  "kernelspec": {
   "display_name": "Python 3",
   "language": "python",
   "name": "python3"
  },
  "language_info": {
   "codemirror_mode": {
    "name": "ipython",
    "version": 2
   },
   "file_extension": ".py",
   "mimetype": "text/x-python",
   "name": "python",
   "nbconvert_exporter": "python",
   "pygments_lexer": "ipython2",
   "version": "2.7.6"
  }
 },
 "nbformat": 4,
 "nbformat_minor": 5
}

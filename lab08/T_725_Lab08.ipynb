{
  "nbformat": 4,
  "nbformat_minor": 0,
  "metadata": {
    "colab": {
      "provenance": []
    },
    "kernelspec": {
      "name": "python3",
      "display_name": "Python 3"
    }
  },
  "cells": [
    {
      "cell_type": "markdown",
      "metadata": {
        "id": "otXzaijYhN9A"
      },
      "source": [
        "# T-725 Natural Language Processing: Lab 8\n",
        "In today's lab, we will be working with named entity recognition and information extraction.\n",
        "\n",
        "To begin with, do the following:\n",
        "* Select `\"File\" > \"Save a copy in Drive\"` to create a local copy of this notebook that you can edit.\n",
        "* Select `\"Runtime\" > \"Run all\"` to run the code in this notebook."
      ]
    },
    {
      "cell_type": "code",
      "metadata": {
        "id": "detFWJ_K3a2s",
        "colab": {
          "base_uri": "https://localhost:8080/"
        },
        "outputId": "fb9b94f3-47c4-45b7-c710-796d1d7a85fb"
      },
      "source": [
        "import nltk\n",
        "nltk.download('maxent_ne_chunker')\n",
        "nltk.download('words')\n",
        "nltk.download('punkt')\n",
        "nltk.download('averaged_perceptron_tagger')"
      ],
      "execution_count": 2,
      "outputs": [
        {
          "output_type": "stream",
          "name": "stderr",
          "text": [
            "[nltk_data] Downloading package maxent_ne_chunker to\n",
            "[nltk_data]     /root/nltk_data...\n",
            "[nltk_data]   Unzipping chunkers/maxent_ne_chunker.zip.\n",
            "[nltk_data] Downloading package words to /root/nltk_data...\n",
            "[nltk_data]   Unzipping corpora/words.zip.\n",
            "[nltk_data] Downloading package punkt to /root/nltk_data...\n",
            "[nltk_data]   Unzipping tokenizers/punkt.zip.\n",
            "[nltk_data] Downloading package averaged_perceptron_tagger to\n",
            "[nltk_data]     /root/nltk_data...\n",
            "[nltk_data]   Unzipping taggers/averaged_perceptron_tagger.zip.\n"
          ]
        },
        {
          "output_type": "execute_result",
          "data": {
            "text/plain": [
              "True"
            ]
          },
          "metadata": {},
          "execution_count": 2
        }
      ]
    },
    {
      "cell_type": "markdown",
      "metadata": {
        "id": "G-iYPlKHMZtT"
      },
      "source": [
        "## Named entity recognition\n",
        "NLTK includes a classifier for tagging named entities, which is described in [Chapter 7.5](https://www.nltk.org/book/ch07.html#sec-ner) of the NLTK book."
      ]
    },
    {
      "cell_type": "code",
      "metadata": {
        "id": "RrCifMSL627g",
        "colab": {
          "base_uri": "https://localhost:8080/"
        },
        "outputId": "3f90e2ef-c1bc-40d3-c2ba-34fb83ca5994"
      },
      "source": [
        "sent = \"\"\"The 2020 Nobel Prize in Physics is awarded to Roger Penrose, Reinhard\n",
        "Genzel and Andrea Ghez for their work on black holes.\"\"\"\n",
        "\n",
        "sent_tokens = nltk.word_tokenize(sent)\n",
        "sent_tagged = nltk.pos_tag(sent_tokens)\n",
        "sent_ner = nltk.ne_chunk(sent_tagged)\n",
        "\n",
        "print(sent_ner)"
      ],
      "execution_count": 3,
      "outputs": [
        {
          "output_type": "stream",
          "name": "stdout",
          "text": [
            "(S\n",
            "  The/DT\n",
            "  2020/CD\n",
            "  Nobel/NNP\n",
            "  Prize/NNP\n",
            "  in/IN\n",
            "  (GPE Physics/NNP)\n",
            "  is/VBZ\n",
            "  awarded/VBN\n",
            "  to/TO\n",
            "  (PERSON Roger/NNP Penrose/NNP)\n",
            "  ,/,\n",
            "  (PERSON Reinhard/NNP Genzel/NNP)\n",
            "  and/CC\n",
            "  (PERSON Andrea/NNP Ghez/NNP)\n",
            "  for/IN\n",
            "  their/PRP$\n",
            "  work/NN\n",
            "  on/IN\n",
            "  black/JJ\n",
            "  holes/NNS\n",
            "  ./.)\n"
          ]
        }
      ]
    },
    {
      "cell_type": "markdown",
      "metadata": {
        "id": "hsgZHcvZIa46"
      },
      "source": [
        "The NLTK book shows a list of commonly used named entity categories along with examples:\n",
        "\n",
        "NE Type | Examples\n",
        "--- | ---\n",
        "ORGANIZATION | Georgia-Pacific Corp., WHO\n",
        "PERSON | Eddy Bonte, President Obama\n",
        "LOCATION | Murray River, Mount Everest\n",
        "DATE | June, 2008-06-29\n",
        "TIME | two fifty a m, 1:30 p.m.\n",
        "MONEY | 175 million Canadian Dollars, GBP 10.40\n",
        "PERCENT | twenty pct, 18.75 %\n",
        "FACILITY | Washington Monument, Stonehenge\n",
        "GPE | South East Asia, Midlothian"
      ]
    },
    {
      "cell_type": "markdown",
      "metadata": {
        "id": "AUn6IJX0hOqA"
      },
      "source": [
        "# Assignment\n",
        "Answer the following questions and hand in your solution in Canvas before 8:30 AM, monday morning, October 23rd. Remember to save your file before uploading it."
      ]
    },
    {
      "cell_type": "markdown",
      "metadata": {
        "id": "UeUG6lCihPrC"
      },
      "source": [
        "## Question 1\n",
        "Use `nltk.ne_chunk(tagged_sentence)` to identify the named entities in the sentences below. Note that you have to tokenize and tag the sentences first. Print out and review the trees. Find at least one error and leave a description of it as a comment or in a text cell below."
      ]
    },
    {
      "cell_type": "code",
      "metadata": {
        "id": "kimEISKwjmY2"
      },
      "source": [
        "# On this day, October 16th (from https://en.wikipedia.org/wiki/October_16):\n",
        "sentences = [\n",
        "    \"1813 – The Sixth Coalition attacks Napoleon in the three-day Battle of Leipzig.\",\n",
        "    \"1923 – The Walt Disney Company is founded.\",\n",
        "    \"1968 – Yasunari Kawabata becomes the first Japanese person to be awarded the Nobel Prize in Literature.\",\n",
        "    \"1975 – Three-year-old Rahima Banu, from Bangladesh, is the last known case of naturally occurring smallpox.\",\n",
        "    \"2002 – The Bibliotheca Alexandrina opens in Egypt, commemorating the ancient library of Alexandria.\"\n",
        "]\n"
      ],
      "execution_count": 4,
      "outputs": []
    },
    {
      "cell_type": "code",
      "source": [
        "# Your solution here\n",
        "\n",
        "sent_ner_2 = []\n",
        "\n",
        "for sentence in sentences:\n",
        "  sent_tokens_2 = nltk.word_tokenize(sentence)\n",
        "  sent_tagged_2 = nltk.pos_tag(sent_tokens_2)\n",
        "  ne_chunk = nltk.ne_chunk(sent_tagged_2)\n",
        "  sent_ner_2.append(ne_chunk)\n",
        "  print(ne_chunk)\n",
        "\n",
        "'''\n",
        "There are some words not classified as expected. For example:\n",
        "  - \"three-day\" should be TIME (not classified)\n",
        "  - \"Napoleon\" shoulb be PERSON (not classified)\n",
        "while some word are correctly classified. Here:\n",
        "  - \"Walt Disney Company\" is ORGANIZATION (not classified)\n",
        "'''"
      ],
      "metadata": {
        "id": "w_Q17RSI6OkJ",
        "colab": {
          "base_uri": "https://localhost:8080/",
          "height": 1000
        },
        "outputId": "82474d55-bdde-473f-f43a-011db960d77e"
      },
      "execution_count": 5,
      "outputs": [
        {
          "output_type": "stream",
          "name": "stdout",
          "text": [
            "(S\n",
            "  1813/CD\n",
            "  –/VBZ\n",
            "  The/DT\n",
            "  (ORGANIZATION Sixth/JJ Coalition/NNP)\n",
            "  attacks/NNS\n",
            "  Napoleon/NNP\n",
            "  in/IN\n",
            "  the/DT\n",
            "  three-day/JJ\n",
            "  Battle/NNP\n",
            "  of/IN\n",
            "  (GPE Leipzig/NNP)\n",
            "  ./.)\n",
            "(S\n",
            "  1923/CD\n",
            "  –/VBZ\n",
            "  The/DT\n",
            "  (ORGANIZATION Walt/NNP Disney/NNP Company/NNP)\n",
            "  is/VBZ\n",
            "  founded/VBN\n",
            "  ./.)\n",
            "(S\n",
            "  1968/CD\n",
            "  –/NNP\n",
            "  Yasunari/NNP\n",
            "  Kawabata/NNP\n",
            "  becomes/VBZ\n",
            "  the/DT\n",
            "  first/JJ\n",
            "  (GPE Japanese/JJ)\n",
            "  person/NN\n",
            "  to/TO\n",
            "  be/VB\n",
            "  awarded/VBN\n",
            "  the/DT\n",
            "  (ORGANIZATION Nobel/NNP Prize/NNP)\n",
            "  in/IN\n",
            "  (GPE Literature/NNP)\n",
            "  ./.)\n",
            "(S\n",
            "  1975/CD\n",
            "  –/JJ\n",
            "  Three-year-old/NNP\n",
            "  (PERSON Rahima/NNP Banu/NNP)\n",
            "  ,/,\n",
            "  from/IN\n",
            "  (GPE Bangladesh/NNP)\n",
            "  ,/,\n",
            "  is/VBZ\n",
            "  the/DT\n",
            "  last/JJ\n",
            "  known/JJ\n",
            "  case/NN\n",
            "  of/IN\n",
            "  naturally/RB\n",
            "  occurring/VBG\n",
            "  smallpox/NN\n",
            "  ./.)\n",
            "(S\n",
            "  2002/CD\n",
            "  –/VBZ\n",
            "  The/DT\n",
            "  (ORGANIZATION Bibliotheca/NNP Alexandrina/NNP)\n",
            "  opens/VBZ\n",
            "  in/IN\n",
            "  (GPE Egypt/NNP)\n",
            "  ,/,\n",
            "  commemorating/VBG\n",
            "  the/DT\n",
            "  ancient/JJ\n",
            "  library/NN\n",
            "  of/IN\n",
            "  (GPE Alexandria/NNP)\n",
            "  ./.)\n"
          ]
        },
        {
          "output_type": "execute_result",
          "data": {
            "text/plain": [
              "'\\nThere are some words not classified as expected. For example:\\n  - \"three-day\" should be TIME (not classified)\\n  - \"Napoleon\" shoulb be PERSON (not classified)\\nwhile some word are correctly classified. Here:\\n  - \"Walt Disney Company\" is ORGANIZATION (not classified)\\n'"
            ],
            "application/vnd.google.colaboratory.intrinsic+json": {
              "type": "string"
            }
          },
          "metadata": {},
          "execution_count": 5
        }
      ]
    },
    {
      "cell_type": "markdown",
      "metadata": {
        "id": "n-fhUl__hQGf"
      },
      "source": [
        "## Question 2\n",
        "[SpaCy](https://spacy.io/) is another NLP library for Python. Try out its named entity recognition system on the sentences in Question 1. Does it repeat any of the mistakes that NLTK makes? Does it make any errors that NLTK doesn't? Leave your answer as a comment or in a text cell below."
      ]
    },
    {
      "cell_type": "code",
      "metadata": {
        "id": "usQVjoi675de",
        "colab": {
          "base_uri": "https://localhost:8080/",
          "height": 52
        },
        "outputId": "c703e440-9f52-494e-dd68-9685954a3c91"
      },
      "source": [
        "import spacy\n",
        "from spacy import displacy\n",
        "import en_core_web_sm\n",
        "\n",
        "nlp = en_core_web_sm.load()\n",
        "\n",
        "# Example\n",
        "text = \"\"\"The 2020 Nobel Prize in Physics is awarded to Roger Penrose, Reinhard\n",
        "Genzel and Andrea Ghez for their work on black holes.\"\"\"\n",
        "\n",
        "doc = nlp(text)\n",
        "displacy.render(doc, style=\"ent\", jupyter=True)"
      ],
      "execution_count": 6,
      "outputs": [
        {
          "output_type": "display_data",
          "data": {
            "text/plain": [
              "<IPython.core.display.HTML object>"
            ],
            "text/html": [
              "<span class=\"tex2jax_ignore\"><div class=\"entities\" style=\"line-height: 2.5; direction: ltr\">The \n",
              "<mark class=\"entity\" style=\"background: #bfe1d9; padding: 0.45em 0.6em; margin: 0 0.25em; line-height: 1; border-radius: 0.35em;\">\n",
              "    2020\n",
              "    <span style=\"font-size: 0.8em; font-weight: bold; line-height: 1; border-radius: 0.35em; vertical-align: middle; margin-left: 0.5rem\">DATE</span>\n",
              "</mark>\n",
              " \n",
              "<mark class=\"entity\" style=\"background: #f0d0ff; padding: 0.45em 0.6em; margin: 0 0.25em; line-height: 1; border-radius: 0.35em;\">\n",
              "    Nobel Prize in Physics\n",
              "    <span style=\"font-size: 0.8em; font-weight: bold; line-height: 1; border-radius: 0.35em; vertical-align: middle; margin-left: 0.5rem\">WORK_OF_ART</span>\n",
              "</mark>\n",
              " is awarded to \n",
              "<mark class=\"entity\" style=\"background: #aa9cfc; padding: 0.45em 0.6em; margin: 0 0.25em; line-height: 1; border-radius: 0.35em;\">\n",
              "    Roger Penrose\n",
              "    <span style=\"font-size: 0.8em; font-weight: bold; line-height: 1; border-radius: 0.35em; vertical-align: middle; margin-left: 0.5rem\">PERSON</span>\n",
              "</mark>\n",
              ", \n",
              "<mark class=\"entity\" style=\"background: #7aecec; padding: 0.45em 0.6em; margin: 0 0.25em; line-height: 1; border-radius: 0.35em;\">\n",
              "    Reinhard\n",
              "Genzel\n",
              "    <span style=\"font-size: 0.8em; font-weight: bold; line-height: 1; border-radius: 0.35em; vertical-align: middle; margin-left: 0.5rem\">ORG</span>\n",
              "</mark>\n",
              " and \n",
              "<mark class=\"entity\" style=\"background: #aa9cfc; padding: 0.45em 0.6em; margin: 0 0.25em; line-height: 1; border-radius: 0.35em;\">\n",
              "    Andrea Ghez\n",
              "    <span style=\"font-size: 0.8em; font-weight: bold; line-height: 1; border-radius: 0.35em; vertical-align: middle; margin-left: 0.5rem\">PERSON</span>\n",
              "</mark>\n",
              " for their work on black holes.</div></span>"
            ]
          },
          "metadata": {}
        }
      ]
    },
    {
      "cell_type": "code",
      "metadata": {
        "id": "Q4MOp81wydWL",
        "colab": {
          "base_uri": "https://localhost:8080/",
          "height": 246
        },
        "outputId": "71b78d9f-5d7c-4a36-caf0-949f0ae4cc1c"
      },
      "source": [
        "# Your solution here\n",
        "\n",
        "for sentence in sentences:\n",
        "  doc = nlp(sentence)\n",
        "  displacy.render(doc, style=\"ent\", jupyter=True)\n",
        "\n",
        "'''\n",
        "For the same words taken as examples before, these are the results using SpaCy:\n",
        "  - \"three-day\" should be TIME but it is classified DATE (better classification than NLTK)\n",
        "  - \"Napoleon\" should be PERSON but it is ORG (better classification than NLTK)\n",
        "  - \"Walt Disney Company\" is correctly classified as ORGANIZATION\n",
        "\n",
        "Comparing SpaCy to NLTK, we can say that it recognize more named entities, but\n",
        "still some of them are not correctly recognized\n",
        "'''"
      ],
      "execution_count": 7,
      "outputs": [
        {
          "output_type": "display_data",
          "data": {
            "text/plain": [
              "<IPython.core.display.HTML object>"
            ],
            "text/html": [
              "<span class=\"tex2jax_ignore\"><div class=\"entities\" style=\"line-height: 2.5; direction: ltr\">\n",
              "<mark class=\"entity\" style=\"background: #bfe1d9; padding: 0.45em 0.6em; margin: 0 0.25em; line-height: 1; border-radius: 0.35em;\">\n",
              "    1813\n",
              "    <span style=\"font-size: 0.8em; font-weight: bold; line-height: 1; border-radius: 0.35em; vertical-align: middle; margin-left: 0.5rem\">DATE</span>\n",
              "</mark>\n",
              " – The \n",
              "<mark class=\"entity\" style=\"background: #e4e7d2; padding: 0.45em 0.6em; margin: 0 0.25em; line-height: 1; border-radius: 0.35em;\">\n",
              "    Sixth\n",
              "    <span style=\"font-size: 0.8em; font-weight: bold; line-height: 1; border-radius: 0.35em; vertical-align: middle; margin-left: 0.5rem\">ORDINAL</span>\n",
              "</mark>\n",
              " Coalition attacks \n",
              "<mark class=\"entity\" style=\"background: #7aecec; padding: 0.45em 0.6em; margin: 0 0.25em; line-height: 1; border-radius: 0.35em;\">\n",
              "    Napoleon\n",
              "    <span style=\"font-size: 0.8em; font-weight: bold; line-height: 1; border-radius: 0.35em; vertical-align: middle; margin-left: 0.5rem\">ORG</span>\n",
              "</mark>\n",
              " in the \n",
              "<mark class=\"entity\" style=\"background: #bfe1d9; padding: 0.45em 0.6em; margin: 0 0.25em; line-height: 1; border-radius: 0.35em;\">\n",
              "    three-day\n",
              "    <span style=\"font-size: 0.8em; font-weight: bold; line-height: 1; border-radius: 0.35em; vertical-align: middle; margin-left: 0.5rem\">DATE</span>\n",
              "</mark>\n",
              " \n",
              "<mark class=\"entity\" style=\"background: #feca74; padding: 0.45em 0.6em; margin: 0 0.25em; line-height: 1; border-radius: 0.35em;\">\n",
              "    Battle of Leipzig\n",
              "    <span style=\"font-size: 0.8em; font-weight: bold; line-height: 1; border-radius: 0.35em; vertical-align: middle; margin-left: 0.5rem\">GPE</span>\n",
              "</mark>\n",
              ".</div></span>"
            ]
          },
          "metadata": {}
        },
        {
          "output_type": "display_data",
          "data": {
            "text/plain": [
              "<IPython.core.display.HTML object>"
            ],
            "text/html": [
              "<span class=\"tex2jax_ignore\"><div class=\"entities\" style=\"line-height: 2.5; direction: ltr\">\n",
              "<mark class=\"entity\" style=\"background: #bfe1d9; padding: 0.45em 0.6em; margin: 0 0.25em; line-height: 1; border-radius: 0.35em;\">\n",
              "    1923\n",
              "    <span style=\"font-size: 0.8em; font-weight: bold; line-height: 1; border-radius: 0.35em; vertical-align: middle; margin-left: 0.5rem\">DATE</span>\n",
              "</mark>\n",
              " – \n",
              "<mark class=\"entity\" style=\"background: #7aecec; padding: 0.45em 0.6em; margin: 0 0.25em; line-height: 1; border-radius: 0.35em;\">\n",
              "    The Walt Disney Company\n",
              "    <span style=\"font-size: 0.8em; font-weight: bold; line-height: 1; border-radius: 0.35em; vertical-align: middle; margin-left: 0.5rem\">ORG</span>\n",
              "</mark>\n",
              " is founded.</div></span>"
            ]
          },
          "metadata": {}
        },
        {
          "output_type": "display_data",
          "data": {
            "text/plain": [
              "<IPython.core.display.HTML object>"
            ],
            "text/html": [
              "<span class=\"tex2jax_ignore\"><div class=\"entities\" style=\"line-height: 2.5; direction: ltr\">\n",
              "<mark class=\"entity\" style=\"background: #bfe1d9; padding: 0.45em 0.6em; margin: 0 0.25em; line-height: 1; border-radius: 0.35em;\">\n",
              "    1968\n",
              "    <span style=\"font-size: 0.8em; font-weight: bold; line-height: 1; border-radius: 0.35em; vertical-align: middle; margin-left: 0.5rem\">DATE</span>\n",
              "</mark>\n",
              " – \n",
              "<mark class=\"entity\" style=\"background: #aa9cfc; padding: 0.45em 0.6em; margin: 0 0.25em; line-height: 1; border-radius: 0.35em;\">\n",
              "    Yasunari Kawabata\n",
              "    <span style=\"font-size: 0.8em; font-weight: bold; line-height: 1; border-radius: 0.35em; vertical-align: middle; margin-left: 0.5rem\">PERSON</span>\n",
              "</mark>\n",
              " becomes the \n",
              "<mark class=\"entity\" style=\"background: #e4e7d2; padding: 0.45em 0.6em; margin: 0 0.25em; line-height: 1; border-radius: 0.35em;\">\n",
              "    first\n",
              "    <span style=\"font-size: 0.8em; font-weight: bold; line-height: 1; border-radius: 0.35em; vertical-align: middle; margin-left: 0.5rem\">ORDINAL</span>\n",
              "</mark>\n",
              " \n",
              "<mark class=\"entity\" style=\"background: #c887fb; padding: 0.45em 0.6em; margin: 0 0.25em; line-height: 1; border-radius: 0.35em;\">\n",
              "    Japanese\n",
              "    <span style=\"font-size: 0.8em; font-weight: bold; line-height: 1; border-radius: 0.35em; vertical-align: middle; margin-left: 0.5rem\">NORP</span>\n",
              "</mark>\n",
              " person to be awarded \n",
              "<mark class=\"entity\" style=\"background: #f0d0ff; padding: 0.45em 0.6em; margin: 0 0.25em; line-height: 1; border-radius: 0.35em;\">\n",
              "    the Nobel Prize in Literature\n",
              "    <span style=\"font-size: 0.8em; font-weight: bold; line-height: 1; border-radius: 0.35em; vertical-align: middle; margin-left: 0.5rem\">WORK_OF_ART</span>\n",
              "</mark>\n",
              ".</div></span>"
            ]
          },
          "metadata": {}
        },
        {
          "output_type": "display_data",
          "data": {
            "text/plain": [
              "<IPython.core.display.HTML object>"
            ],
            "text/html": [
              "<span class=\"tex2jax_ignore\"><div class=\"entities\" style=\"line-height: 2.5; direction: ltr\">\n",
              "<mark class=\"entity\" style=\"background: #bfe1d9; padding: 0.45em 0.6em; margin: 0 0.25em; line-height: 1; border-radius: 0.35em;\">\n",
              "    1975\n",
              "    <span style=\"font-size: 0.8em; font-weight: bold; line-height: 1; border-radius: 0.35em; vertical-align: middle; margin-left: 0.5rem\">DATE</span>\n",
              "</mark>\n",
              " – \n",
              "<mark class=\"entity\" style=\"background: #bfe1d9; padding: 0.45em 0.6em; margin: 0 0.25em; line-height: 1; border-radius: 0.35em;\">\n",
              "    Three-year-old\n",
              "    <span style=\"font-size: 0.8em; font-weight: bold; line-height: 1; border-radius: 0.35em; vertical-align: middle; margin-left: 0.5rem\">DATE</span>\n",
              "</mark>\n",
              " \n",
              "<mark class=\"entity\" style=\"background: #7aecec; padding: 0.45em 0.6em; margin: 0 0.25em; line-height: 1; border-radius: 0.35em;\">\n",
              "    Rahima Banu\n",
              "    <span style=\"font-size: 0.8em; font-weight: bold; line-height: 1; border-radius: 0.35em; vertical-align: middle; margin-left: 0.5rem\">ORG</span>\n",
              "</mark>\n",
              ", from \n",
              "<mark class=\"entity\" style=\"background: #feca74; padding: 0.45em 0.6em; margin: 0 0.25em; line-height: 1; border-radius: 0.35em;\">\n",
              "    Bangladesh\n",
              "    <span style=\"font-size: 0.8em; font-weight: bold; line-height: 1; border-radius: 0.35em; vertical-align: middle; margin-left: 0.5rem\">GPE</span>\n",
              "</mark>\n",
              ", is the last known case of naturally occurring smallpox.</div></span>"
            ]
          },
          "metadata": {}
        },
        {
          "output_type": "display_data",
          "data": {
            "text/plain": [
              "<IPython.core.display.HTML object>"
            ],
            "text/html": [
              "<span class=\"tex2jax_ignore\"><div class=\"entities\" style=\"line-height: 2.5; direction: ltr\">\n",
              "<mark class=\"entity\" style=\"background: #bfe1d9; padding: 0.45em 0.6em; margin: 0 0.25em; line-height: 1; border-radius: 0.35em;\">\n",
              "    2002\n",
              "    <span style=\"font-size: 0.8em; font-weight: bold; line-height: 1; border-radius: 0.35em; vertical-align: middle; margin-left: 0.5rem\">DATE</span>\n",
              "</mark>\n",
              " – The Bibliotheca Alexandrina opens in \n",
              "<mark class=\"entity\" style=\"background: #feca74; padding: 0.45em 0.6em; margin: 0 0.25em; line-height: 1; border-radius: 0.35em;\">\n",
              "    Egypt\n",
              "    <span style=\"font-size: 0.8em; font-weight: bold; line-height: 1; border-radius: 0.35em; vertical-align: middle; margin-left: 0.5rem\">GPE</span>\n",
              "</mark>\n",
              ", commemorating the ancient library of \n",
              "<mark class=\"entity\" style=\"background: #feca74; padding: 0.45em 0.6em; margin: 0 0.25em; line-height: 1; border-radius: 0.35em;\">\n",
              "    Alexandria\n",
              "    <span style=\"font-size: 0.8em; font-weight: bold; line-height: 1; border-radius: 0.35em; vertical-align: middle; margin-left: 0.5rem\">GPE</span>\n",
              "</mark>\n",
              ".</div></span>"
            ]
          },
          "metadata": {}
        },
        {
          "output_type": "execute_result",
          "data": {
            "text/plain": [
              "'\\nFor the same words taken as examples before, these are the results using SpaCy:\\n  - \"three-day\" should be TIME but it is classified DATE (better classification than NLTK)\\n  - \"Napoleon\" should be PERSON but it is ORG (better classification than NLTK)\\n  - \"Walt Disney Company\" is correctly classified as ORGANIZATION\\n\\nComparing SpaCy to NLTK, we can say that it recognize more named entities, but\\nstill some of them are not correctly recognized\\n'"
            ],
            "application/vnd.google.colaboratory.intrinsic+json": {
              "type": "string"
            }
          },
          "metadata": {},
          "execution_count": 7
        }
      ]
    },
    {
      "cell_type": "markdown",
      "metadata": {
        "id": "LNnqJn93hQ4T"
      },
      "source": [
        "## Question 3\n",
        "Use regular expressions to try to find instances of the following relationships in the `reuters` corpus:\n",
        "1. Organizations or companies and their subsidiaries, divisions or parts, e.g.:\n",
        "  * *Moss Rosenberg Verft, a subsidiary of Kvaerner Industrier A/S*\n",
        "  * *Merrill Lynch Capital Partners, a unit of Merrill Lynch*\n",
        "2. Executives and the companies they work for, e.g.:\n",
        "  * *Isao Nakamura, president of Higashi Nippon*\n",
        "  *  *Henry Rosenberg, chairman of Crown Central Petroleum*\n",
        "\n",
        "Your results don't have to be perfect! Getting a few relevant matches is enough, but try to keep irrelevant results to a minimum."
      ]
    },
    {
      "cell_type": "code",
      "metadata": {
        "id": "iJcbqv1mhQjH",
        "colab": {
          "base_uri": "https://localhost:8080/"
        },
        "outputId": "e9869f19-0417-469f-8f87-c4f35b4a46ee"
      },
      "source": [
        "import re\n",
        "from nltk.corpus import reuters\n",
        "nltk.download('reuters')\n",
        "\n",
        "# Create a copy of the text where there's only a single space between each word\n",
        "text = \" \".join(reuters.raw().split())\n",
        "\n",
        "# Example\n",
        "for m in re.findall(r'(?: [A-Z][a-z]+)+ said it acquired (?:[A-Z][a-z]+ )+', text):\n",
        "  print(m)\n",
        "\n",
        "# Note how normal groups and non-capturing groups work with re.findall():\n",
        "# a_string = \"a a b\"\n",
        "# re.findall(r'(a )+b', a_string): ['a '] (normal group)\n",
        "# re.findall(r'(?:a )+b', a_string): ['a a b'] (non-capturing group)"
      ],
      "execution_count": 8,
      "outputs": [
        {
          "output_type": "stream",
          "name": "stderr",
          "text": [
            "[nltk_data] Downloading package reuters to /root/nltk_data...\n"
          ]
        },
        {
          "output_type": "stream",
          "name": "stdout",
          "text": [
            " Douglas Corp said it acquired Frampton Computer Services \n",
            " Corp said it acquired Private Formulations Inc \n",
            " Forstmann Little said it acquired Sybron \n",
            " Southmark Corp said it acquired Berg Ventures \n",
            " Sico said it acquired Sterling \n",
            " First Financial Management Corp said it acquired Confidata \n",
            " Philadelphia Suburban Corp said it acquired Mentor Systems \n",
            " Medar Inc said it acquired Automatic Inspection Devices \n",
            " Stryker Corp said it acquired Hexcel Medical \n",
            " Inspeech Inc said it acquired Norma Bork Associates Inc \n",
            " Olin Hunt Specialty Products Inc said it acquired Image Technology Corp \n",
            " Enro Holding Corp said it acquired Enro Shirt Co \n",
            " Seal Inc said it acquired Ademco \n"
          ]
        }
      ]
    },
    {
      "cell_type": "code",
      "metadata": {
        "id": "JLg0V1ZTE_Hi",
        "colab": {
          "base_uri": "https://localhost:8080/"
        },
        "outputId": "ac4e0e9f-f97d-4e97-b842-d00535901a5a"
      },
      "source": [
        "org_regex = r'\\b(?:[A-Z][\\w&\\'\\s]+)(?:,\\s+a\\s+)?(?:subsidiary|division|part)\\s+of\\s+(?:[A-Z][\\w&\\'\\s]+)\\b'\n",
        "exec_regex = r'\\b(?:[A-Z][\\w&\\'\\s]+),\\s+(?:president|chairman|CEO|executive)\\s+of\\s+(?:[A-Z][\\w&\\'\\s]+)\\b'\n",
        "\n",
        "print(\"\\n1. Subsidiaries\")\n",
        "for m in re.findall(org_regex, text)[:10]:\n",
        "  print(\" - \"+m)\n",
        "\n",
        "print(\"\\n2. Executives\")\n",
        "for m in re.findall(exec_regex, text)[:10]:\n",
        "  print(\" - \"+m)\n"
      ],
      "execution_count": 9,
      "outputs": [
        {
          "output_type": "stream",
          "name": "stdout",
          "text": [
            "\n",
            "1. Subsidiaries\n",
            " - Spie Batignolles, a subsidiary of Schneider SA &lt\n",
            " - Company is a subsidiary of Switzerland's BBC AG Brown Boveri und Cie &lt\n",
            " - CTS Magma Copper Co, a subsidiary of Newmont Mining Corp\n",
            " - UNIT TO RAISE HEAVY FUEL PRICES Scallop Petroleum Corp, a subsidiary of Royal Dutch\n",
            " - Industry sources told Reuters yesterday that Fundamental was close to acquiring the government securities brokerage division of MKI\n",
            " - The company added that Isis will operate as part of McDonnell Douglas Information Systems International\n",
            " - Warner will become a wholly owned subsidiary of AV Holdings\n",
            " - Allied Stores Corp, a subsidiary of Campeau Corp\n",
            " - Canadian subsidiary of Rothmans International Plc &lt\n",
            " - ARGOSystems will operate as a wholly owned subsidiary of Boeing Co\n",
            "\n",
            "2. Executives\n",
            " - Edward Brennan, chairman of Sears Roebuck and Co &lt\n",
            " - Lichtblau, president of Petroleum Industry Research Associates\n",
            " - James Burke, president of Merrill Lynch Capital Partners\n",
            " - Robert Campeau, chairman of Allied\n",
            " - Theodore Brophy, chairman of GTE said\n",
            " - Bill May, chairman of ARGOSystems\n",
            " - Richard Ferris, chairman of Allegis\n",
            " - LEUTWILER WANTS FIRMER MARK AGAINST SFR Fritz Leutwiler, chairman of BBC AG Brown Boveri und Cie and a former Swiss National Bank president\n",
            " - John Lichtblau, president of Petroleum Industry Ressearch Foundation\n",
            " - Rainer Gut, chairman of Credit Suisse\n"
          ]
        }
      ]
    },
    {
      "cell_type": "markdown",
      "metadata": {
        "id": "dZlHx_4FhRoZ"
      },
      "source": [
        "## Question 4\n",
        "It's much easier to extract relationships from text that is tagged with named entities. This can be accomplished using the `nltk.sem.extract_rels()` function, as described in [Chapter 7.6](https://www.nltk.org/book/ch07.html#relation-extraction) of the NLTK book. The function takes two named entity categories and a regular expression as arguments and returns all instances where the pattern occurs between the two categories (allowing for up to 10 tokens between them, by default).\n",
        "\n",
        "The `ieer` (Information Extraction and Entity Recognition) corpus contains named entity annotations, such as `PER`, `ORG` and `LOC`. Find some instances of the following relationships using `nltk.sem.extract_rels()`:\n",
        "1. Professors and the organizations they work for, e.g.:\n",
        "  * *Roger Goldman, a law professor at St. Louis University*\n",
        "2. Family members e.g.,:\n",
        "  * *Louis XIV and his brother, Philippe*\n",
        "  * *Mildred Rosenbaum and her husband Stanley*\n",
        "3. People and where are from, e.g.:\n",
        "  * *Anna Rechnio of Poland*"
      ]
    },
    {
      "cell_type": "code",
      "metadata": {
        "id": "kHmcBIvhhRLs",
        "colab": {
          "base_uri": "https://localhost:8080/"
        },
        "outputId": "130d329e-c665-4163-eebe-e6ffa481c893"
      },
      "source": [
        "from nltk.corpus import ieer\n",
        "nltk.download('ieer')\n",
        "\n",
        "# Example\n",
        "pattern = re.compile(r'.*\\bacquired?\\b')\n",
        "\n",
        "for doc in nltk.corpus.ieer.parsed_docs():\n",
        "  for rel in nltk.sem.extract_rels('ORG', 'ORG', doc, 'ieer', pattern):\n",
        "    print(nltk.sem.rtuple(rel))"
      ],
      "execution_count": 10,
      "outputs": [
        {
          "output_type": "stream",
          "name": "stderr",
          "text": [
            "[nltk_data] Downloading package ieer to /root/nltk_data...\n",
            "[nltk_data]   Unzipping corpora/ieer.zip.\n"
          ]
        },
        {
          "output_type": "stream",
          "name": "stdout",
          "text": [
            "[ORG: 'Omnicom'] 'moved to acquire' [ORG: 'GGT']\n",
            "[ORG: 'BDDP'] 'was acquired last year by' [ORG: 'GGT']\n",
            "[ORG: 'Safeway Stores'] 'acquired' [ORG: 'Mutual']\n"
          ]
        }
      ]
    },
    {
      "cell_type": "code",
      "metadata": {
        "id": "a_9-ByVN2bX_",
        "colab": {
          "base_uri": "https://localhost:8080/"
        },
        "outputId": "1ef82daf-e3d0-45e8-b1e1-12722a6216af"
      },
      "source": [
        "# Your solution here\n",
        "print(\"\\nProfessors and their organizations:\\n\")\n",
        "pattern_1 = re.compile(r'.*\\bprofessor at?\\b')\n",
        "for doc in nltk.corpus.ieer.parsed_docs():\n",
        "  for rel in nltk.sem.extract_rels('PER', 'ORG', doc, 'ieer', pattern_1):\n",
        "    print(nltk.sem.rtuple(rel))\n",
        "print(\"\\nFamily members:\\n\")\n",
        "pattern_2 = re.compile(r'.*\\bhis?\\b')\n",
        "for doc in nltk.corpus.ieer.parsed_docs():\n",
        "  for rel in nltk.sem.extract_rels('PER', 'PER', doc, 'ieer', pattern_2):\n",
        "    print(nltk.sem.rtuple(rel))\n",
        "print(\"\\nPeople and where thei are from:\\n\")\n",
        "pattern_2 = re.compile(r'.*\\bfrom?\\b')\n",
        "for doc in nltk.corpus.ieer.parsed_docs():\n",
        "  for rel in nltk.sem.extract_rels('PER', 'LOC', doc, 'ieer', pattern_2):\n",
        "    print(nltk.sem.rtuple(rel))"
      ],
      "execution_count": 28,
      "outputs": [
        {
          "output_type": "stream",
          "name": "stdout",
          "text": [
            "\n",
            "Professors and their organizations:\n",
            "\n",
            "[PER: 'Pepper Schwartz'] ', a sociology professor at the' [ORG: 'University of Washington']\n",
            "[PER: 'Roger Goldman'] ', a law professor at' [ORG: 'St. Louis University']\n",
            "[PER: 'Joseph Jacobson'] ', an assistant professor at' [ORG: 'MIT']\n",
            "\n",
            "Family members:\n",
            "\n",
            "[PER: 'Yeltsin'] 'fired his Cabinet and named' [PER: 'Kiriyenko']\n",
            "[PER: 'Jack N. Berkman'] ', an alumnus, and his wife,' [PER: 'Lillian R. Berkman']\n",
            "[PER: 'Louis XIV'] 'and his brother,' [PER: 'Philippe']\n",
            "[PER: 'Wilson'] 'brought his costume designer,' [PER: 'Frida Parmeggiani']\n",
            "[PER: 'Moss'] 'and his longtime partner,' [PER: 'Stan Dragoti']\n",
            "[PER: 'Clinton'] 'and his wife,' [PER: 'Hillary Rodham Clinton']\n",
            "[PER: 'Ismoil'] 'did not testify in the trial, but his lawyer,' [PER: 'Louis R. Aidala']\n",
            "[PER: 'Louis R. Aidala'] ', often sought to distance his client from' [PER: 'Yousef']\n",
            "[PER: 'Brosius'] 'tapped his chest, acknowledging his mistake. Later,' [PER: 'Strawberry']\n",
            "[PER: 'Johnson'] 'with his usual stylishness.' [PER: 'Chaym']\n",
            "[PER: 'Chaym'] 'has lived his life shadowed by' [PER: 'King']\n",
            "[PER: 'James Morris'] 'was planning to sing his first' [PER: 'Hans Sachs']\n",
            "[PER: 'Eva'] ', the daughter of his fellow master singer' [PER: 'Pogner']\n",
            "[PER: 'Gert Henning-Jensen'] 'made his debut as' [PER: 'Sachs']\n",
            "[PER: 'Blair'] \"said. ``I'm here to try.'' Although his office insisted that\" [PER: 'Blair']\n",
            "[PER: 'Trimble'] 'was stating his rejection,' [PER: 'Paisley']\n",
            "[PER: 'Viktor Chernomyrdin'] ', also suggested his party should influence the composition of' [PER: 'Yeltsin']\n",
            "\n",
            "People and where thei are from:\n",
            "\n",
            "[PER: 'Ali Mahdi Mohamed'] ', a Somali leader from north' [LOC: 'Mogadishu']\n",
            "[PER: 'Matt Wolf'] ', who traveled from' [LOC: 'North Carolina']\n",
            "[PER: 'Orlando Hernandez'] ', the right-hander who defected from' [LOC: 'Cuba']\n"
          ]
        }
      ]
    }
  ]
}